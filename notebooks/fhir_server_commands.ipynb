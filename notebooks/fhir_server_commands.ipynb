{
 "cells": [
  {
   "cell_type": "markdown",
   "metadata": {},
   "source": [
    "# FHIR server commands in Python\n",
    "- Before proceeding you must start a FHIR server. For default use [hapi-fhir-jpaserver-starter](https://github.com/hapifhir/hapi-fhir-jpaserver-starter). Enter mvn jetty:run from project in cmd to launch server\n",
    "- [POST file and validate](#POST-file-and-validate)\n",
    "- [PUT file with ID](#PUT-file-with-ID)\n",
    "- [GET with validate](#GET-with-validate)\n",
    "- [GET without validate - Download Resource](#GET-without-validate---Download-Resource)\n",
    "- [Bulk Export](#Bulk-Export)"
   ]
  },
  {
   "cell_type": "code",
   "execution_count": null,
   "metadata": {},
   "outputs": [],
   "source": [
    "#imports\n",
    "import requests\n",
    "import json\n",
    "import os\n",
    "from pathlib import Path"
   ]
  },
  {
   "cell_type": "code",
   "execution_count": null,
   "metadata": {},
   "outputs": [],
   "source": [
    "# resource lookup\n",
    "file_to_resource = {\n",
    "    'condition': 'Condition',\n",
    "    'encounter': 'Encounter',\n",
    "    'encounter_icu': 'Encounter',\n",
    "    'medadmin_icu': 'MedicationAdministration',\n",
    "    'medication_administration': 'MedicationAdministration',\n",
    "    'medication_request': 'MedicationRequest',\n",
    "    'observation_datetimeevents': 'Observation',\n",
    "    'observation_labs': 'Observation',\n",
    "    'observation_micro_org': 'Observation',\n",
    "    'observation_micro_susc': 'Observation',\n",
    "    'observation_micro_test': 'Observation',\n",
    "    'observation_outputevents': 'Observation',\n",
    "    'organization': 'Organization',\n",
    "    'patient': 'Patient',\n",
    "    'procedure': 'Procedure',\n",
    "    'procedure_icu': 'Procedure'\n",
    "}"
   ]
  },
  {
   "cell_type": "code",
   "execution_count": null,
   "metadata": {},
   "outputs": [],
   "source": [
    "# read in one resource json\n",
    "filename = 'patient'\n",
    "resource = file_to_resource[filename]\n",
    "\n",
    "\n",
    "fhir_json = Path('/home/alex/Documents/mimic-fhir-test-data/test/' + filename + '.json') \n",
    "with open(fhir_json, mode='r') as raw_fhir:\n",
    "    for line in raw_fhir:\n",
    "        fhir_data = json.loads(line)\n",
    "        break"
   ]
  },
  {
   "cell_type": "markdown",
   "metadata": {},
   "source": [
    "## POST file and validate\n",
    "- use to validate a resource and get the response right back\n",
    "- will autogenerate an ID for storing the resource"
   ]
  },
  {
   "cell_type": "code",
   "execution_count": null,
   "metadata": {},
   "outputs": [],
   "source": [
    "# validate resource\n",
    "fhir_option = '/$validate'\n",
    "server = 'http://localhost:8080/fhir/'\n",
    "url = server +  resource + fhir_option\n",
    "\n",
    "resp = requests.post(url, json = fhir_data, headers={\"Content-Type\": \"application/fhir+json\"})\n",
    "print(resp.text)"
   ]
  },
  {
   "cell_type": "markdown",
   "metadata": {},
   "source": [
    "## PUT file with ID\n",
    "- Uploads the resource to the FHIR Server with ID generated in Postgres\n",
    "- This will check references in resources, so may toss errors if the referenced resources haven't been uploaded yet\n",
    "- PUT responses:\n",
    "  - With issue: an OperationOutcome with the detailed issues\n",
    "  - Without issue: a json representation of the resource"
   ]
  },
  {
   "cell_type": "code",
   "execution_count": null,
   "metadata": {},
   "outputs": [],
   "source": [
    "# validate resource\n",
    "fhir_option = '/$validate'\n",
    "server = 'http://localhost:8080/fhir/'\n",
    "url = server +  resource + '/' + fhir_data['id']\n",
    "\n",
    "resp = requests.put(url,  json = fhir_data, headers={\"Content-Type\": \"application/fhir+json\"} )\n",
    "print(resp.text)"
   ]
  },
  {
   "cell_type": "markdown",
   "metadata": {},
   "source": [
    "## GET with validate\n",
    "- grab resource by ID and validate it\n",
    "- Resource must have been PUT on the server before this for it to work\n",
    "- The advantage of using a GET validate versus a POST validate, is that the GET validate will have the text.narrative automatically generated after the PUT call. The narrative is a warning that pops up in the POST."
   ]
  },
  {
   "cell_type": "code",
   "execution_count": null,
   "metadata": {},
   "outputs": [],
   "source": [
    "url = server +  resource + '/' + fhir_data['id'] + fhir_option\n",
    "resp = requests.get(url, headers={\"Content-Type\": \"application/fhir+json\"})\n",
    "print(resp.text)"
   ]
  },
  {
   "cell_type": "markdown",
   "metadata": {},
   "source": [
    "## GET without validate - Download Resource\n",
    "- Download an individual resource, best to be done after validation complete"
   ]
  },
  {
   "cell_type": "code",
   "execution_count": null,
   "metadata": {},
   "outputs": [],
   "source": [
    "url = server +  resource + '/' + fhir_data['id']\n",
    "fhir_resource = requests.get(url, headers={\"Content-Type\": \"application/json\"})\n",
    "print(fhir_resource.text)\n",
    "\n",
    "\n",
    "output_json = Path('/home/alex/Documents/mimic-fhir-test-data/server_output/' + filename + '.json') \n",
    "with open(output_json, mode='a+') as output_fhir:\n",
    "    output_fhir.write(fhir_resource.text.replace('\\n','').replace(' ', '') + '\\n')"
   ]
  },
  {
   "cell_type": "markdown",
   "metadata": {},
   "source": [
    "## Bulk Export\n",
    "- Can export all entries of a particular resource\n",
    "- May need to enable bulk export for FHIR server: In application.yaml for HAPI FHIR Server need to set parameter `bulk_export_enabled` to true. Restart server to activate this parameter\n",
    "\n",
    "TO DO:\n",
    "- Figure out how to poll the bulk export endpoint: http://www.hl7.org/fhir/async.html and https://hl7.org/fhir/uv/bulkdata/export/index.html\n",
    "- Find the output location\n",
    "- Output a resource to a file"
   ]
  },
  {
   "cell_type": "code",
   "execution_count": null,
   "metadata": {},
   "outputs": [],
   "source": [
    "url = server +  '$export?_type=' + resource\n",
    "resp = requests.get(url, headers={\"Accept\": \"json\", \"Prefer\": \"respond-async\"})\n",
    "print(resp.text)"
   ]
  }
 ],
 "metadata": {
  "kernelspec": {
   "display_name": "Python 3",
   "language": "python",
   "name": "python3"
  },
  "language_info": {
   "codemirror_mode": {
    "name": "ipython",
    "version": 3
   },
   "file_extension": ".py",
   "mimetype": "text/x-python",
   "name": "python",
   "nbconvert_exporter": "python",
   "pygments_lexer": "ipython3",
   "version": "3.8.5"
  }
 },
 "nbformat": 4,
 "nbformat_minor": 5
}
