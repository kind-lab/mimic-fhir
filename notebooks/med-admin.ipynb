{
 "cells": [
  {
   "cell_type": "code",
   "execution_count": null,
   "metadata": {
    "tags": []
   },
   "outputs": [],
   "source": [
    "# Import libraries\n",
    "import numpy as np\n",
    "import pandas as pd\n",
    "import psycopg2\n",
    "import matplotlib.pyplot as plt\n",
    "%matplotlib inline\n",
    "plt.style.use('ggplot') "
   ]
  },
  {
   "cell_type": "code",
   "execution_count": null,
   "metadata": {},
   "outputs": [],
   "source": [
    "# create a database connection\n",
    "sqluser = 'postgres'\n",
    "sqlpass = 'postgres'\n",
    "dbname = 'mimic_iv'\n",
    "host = 'localhost'"
   ]
  },
  {
   "cell_type": "markdown",
   "metadata": {},
   "source": [
    "# Goals\n",
    "What are we try to do here:\n",
    "- Provide an example medication/medication administration \n",
    "- Pull emar events with pharmacy_id with drug_type BASE, MAIN, ADDITIVE all filled. Generate medication in fhir that rolls up all 3\n",
    "- Assign the one medication to the \n"
   ]
  },
  {
   "cell_type": "markdown",
   "metadata": {},
   "source": [
    "## Compare mimic tables for best medication source\n",
    "- prescriptions vs pharmacy vs poe/poe_detail"
   ]
  },
  {
   "cell_type": "code",
   "execution_count": null,
   "metadata": {},
   "outputs": [],
   "source": [
    "con = psycopg2.connect(dbname=dbname, user=sqluser, password=sqlpass, host=host)\n",
    "cur = con.cursor()"
   ]
  },
  {
   "cell_type": "code",
   "execution_count": null,
   "metadata": {},
   "outputs": [],
   "source": [
    "q_prescriptions = \"SELECT DISTINCT drug as medication FROM mimic_hosp.prescriptions;\"\n",
    "q_pharmacy = \"SELECT DISTINCT medication FROM mimic_hosp.pharmacy;\"\n",
    "q_poe = \"\"\"\n",
    "    SELECT DISTINCT field_value as medication\n",
    "    FROM\n",
    "        mimic_hosp.poe poe\n",
    "        LEFT JOIN mimic_hosp.poe_detail pd\n",
    "            ON poe.poe_id = pd.poe_id\n",
    "    WHERE \n",
    "        order_type = 'Medications' \n",
    "        AND field_value IS NOT NULL;\n",
    "\"\"\"\n",
    "meds_pharmacy = pd.read_sql_query(q_pharmacy,con)\n",
    "meds_prescription = pd.read_sql_query(q_prescriptions,con)\n",
    "meds_poe = pd.read_sql_query(q_poe,con)"
   ]
  },
  {
   "cell_type": "code",
   "execution_count": null,
   "metadata": {},
   "outputs": [],
   "source": [
    "meds_poe.head()"
   ]
  },
  {
   "cell_type": "markdown",
   "metadata": {},
   "source": [
    "- Based on the values looking at a high level, the poe_detail does not contain individual medication information more on order details.\n",
    "\n",
    "- Exclude poe_detial, continue with pharmacy and prescriptions"
   ]
  },
  {
   "cell_type": "code",
   "execution_count": null,
   "metadata": {},
   "outputs": [],
   "source": [
    "meds_prescription"
   ]
  },
  {
   "cell_type": "code",
   "execution_count": null,
   "metadata": {},
   "outputs": [],
   "source": [
    "pd.concat([meds_pharmacy,meds_prescription]).drop_duplicates(keep=False)"
   ]
  },
  {
   "cell_type": "markdown",
   "metadata": {},
   "source": [
    "- There are just over 10,000 medications in both pharmacy and prescription. Comparing for unique values shows that there are 900 medication differences between the two, so worth merging distinct meds here "
   ]
  },
  {
   "cell_type": "code",
   "execution_count": null,
   "metadata": {},
   "outputs": [],
   "source": [
    "# Updated query\n",
    "q_meds = \"\"\"\n",
    "    SELECT DISTINCT drug as medication FROM mimic_hosp.prescriptions WHERE drug IS NOT NULL\n",
    "    UNION\n",
    "    SELECT DISTINCT medication FROM mimic_hosp.pharmacy ph WHERE medication IS NOT NULL\n",
    "\"\"\"\n",
    "df_meds = pd.read_sql_query(q_meds,con)\n",
    "df_meds"
   ]
  },
  {
   "cell_type": "markdown",
   "metadata": {},
   "source": [
    "- BUT looking at emar, which is where medication will be referenced, there are no distinct medications found in the pharmacy that are used by emar"
   ]
  },
  {
   "cell_type": "code",
   "execution_count": null,
   "metadata": {},
   "outputs": [],
   "source": [
    "# Updated query\n",
    "q_meds_pharmacy = \"\"\"\n",
    "    SELECT distinct ph.medication\n",
    "    FROM \n",
    "    mimic_hosp.emar em\n",
    "    LEFT JOIN mimic_hosp.pharmacy ph\n",
    "        ON em.pharmacy_id = ph.pharmacy_id\n",
    "    LEFT JOIN mimic_hosp.prescriptions pr\n",
    "        ON em.pharmacy_id = pr.pharmacy_id\n",
    "WHERE\n",
    "    pr.pharmacy_id IS NULL\n",
    "    AND ph.pharmacy_id IS NOT NULL\n",
    "    AND ph.medication NOT IN (SELECT distinct drug as medication \n",
    "                              FROM mimic_hosp.prescriptions)\n",
    "\"\"\"\n",
    "df_meds_pharmacy = pd.read_sql_query(q_meds_pharmacy,con)\n",
    "df_meds_pharmacy"
   ]
  },
  {
   "cell_type": "markdown",
   "metadata": {},
   "source": [
    "- Finally that means we just take prescriptions to create the distinct medications"
   ]
  },
  {
   "cell_type": "markdown",
   "metadata": {
    "tags": []
   },
   "source": [
    "## Create medication resource from prescriptions\n",
    "1. Create medication resources based on distinct NDC's where NDC != 0\n",
    "2. Create meciation resources for distinct drugs with NDC=0\n",
    "    - Need to create an identifier for these drugs, create new schema/table for mapping this\n",
    "3. We will need to roll up the prescription medications into one FHIR medication resources. These medication mixes will point back to the medication resources generated in step 1 and 2. There are multiple medications that can be under a pharmacy_id, broken down by drug_type being MAIN, BASE or ADDITIVE, assign these each as ingredients "
   ]
  },
  {
   "cell_type": "markdown",
   "metadata": {},
   "source": [
    "#### 1. Medication with NDC"
   ]
  },
  {
   "cell_type": "code",
   "execution_count": null,
   "metadata": {},
   "outputs": [],
   "source": [
    "q_medication_ndc = \"\"\"\n",
    "WITH vars as (\n",
    "    SELECT uuid_generate_v5(uuid_generate_v5(uuid_ns_oid(), 'MIMIC-IV'), 'Medication') as uuid_medication\n",
    ")\n",
    "SELECT\n",
    "    pr.ndc as pr_NDC\n",
    "    , MIN(pr.drug) as pr_DRUG\n",
    " \n",
    "    -- reference uuids\n",
    "    , uuid_generate_v5(uuid_medication, pr.ndc) as uuid_DRUG\n",
    "FROM\n",
    "    mimic_hosp.prescriptions pr\n",
    "LEFT JOIN vars ON true\n",
    "WHERE pr.ndc != '0' AND pr.ndc IS NOT NULL AND pr.ndc != '' \n",
    "GROUP BY \n",
    "    pr.ndc\n",
    "    , uuid_medication\n",
    "LIMIT 10\n",
    "\"\"\"\n",
    "df_meds_ndc = pd.read_sql_query(q_medication_ndc,con)\n",
    "df_meds_ndc"
   ]
  },
  {
   "cell_type": "markdown",
   "metadata": {},
   "source": [
    "#### 2. Medication with no NDC"
   ]
  },
  {
   "cell_type": "code",
   "execution_count": null,
   "metadata": {},
   "outputs": [],
   "source": [
    "# Create new schema and identifier for drugs with no NDC\n",
    "q_map_drug_id = \"\"\"\n",
    "    DROP TABLE IF EXISTS fhir_etl.map_drug_id;\n",
    "    CREATE TABLE fhir_etl.map_drug_id(\n",
    "        drug_id INT GENERATED ALWAYS AS IDENTITY,\n",
    "        drug VARCHAR NOT NULL\n",
    "    );\n",
    "\n",
    "    INSERT INTO fhir_etl.map_drug_id(drug)\n",
    "    SELECT DISTINCT drug \n",
    "    FROM mimic_hosp.prescriptions\n",
    "    WHERE ndc = '0' or ndc IS NULL OR ndc = '';\n",
    "\"\"\"\n",
    "cur.execute(q_medication_other)"
   ]
  },
  {
   "cell_type": "code",
   "execution_count": null,
   "metadata": {},
   "outputs": [],
   "source": [
    "q_medication_other = \"\"\"\n",
    "WITH vars as (\n",
    "    SELECT uuid_generate_v5(uuid_generate_v5(uuid_ns_oid(), 'MIMIC-IV'), 'Medication') as uuid_medication\n",
    ")\n",
    "SELECT\n",
    "    DISTINCT pr.drug as pr_DRUG\n",
    "    , pr.ndc as pr_NDC\n",
    "    , md.drug_id::text as md_DRUG_ID\n",
    "  \n",
    "    -- reference uuids\n",
    "    , uuid_generate_v5(uuid_medication, md.drug_id::text) as uuid_DRUG\n",
    "FROM\n",
    "    mimic_hosp.prescriptions pr\t\n",
    "    LEFT JOIN fhir_etl.map_drug_id md\n",
    "        ON pr.drug = md.drug\n",
    "    LEFT JOIN vars ON true\n",
    "WHERE pr.ndc = '0' OR pr.ndc IS NULL OR pr.ndc = ''\n",
    "LIMIT 10\n",
    "\"\"\"\n",
    "df_meds_other = pd.read_sql_query(q_medication_other,con)\n",
    "df_meds_other"
   ]
  },
  {
   "cell_type": "markdown",
   "metadata": {},
   "source": [
    "#### 3. Medication mixes"
   ]
  },
  {
   "cell_type": "code",
   "execution_count": null,
   "metadata": {
    "tags": []
   },
   "outputs": [],
   "source": [
    "q_medication_mix = \"\"\"\n",
    "WITH vars as (\n",
    "    SELECT uuid_generate_v5(uuid_generate_v5(uuid_ns_oid(), 'MIMIC-IV'), 'Medication') as uuid_medication\n",
    ")\n",
    "SELECT\n",
    "    pr.pharmacy_id as pr_PHARMACY_ID\n",
    "\n",
    "  \n",
    "    , json_agg(json_build_object(\n",
    "        'itemReference', \n",
    "            jsonb_build_object('reference', 'Medication/' || \n",
    "                               uuid_generate_v5(uuid_medication,CASE \n",
    "                                                                WHEN md.drug_id IS NOT NULL \n",
    "                                                                THEN md.drug_id::text \n",
    "                                                                ELSE pr.ndc::text END)                \n",
    "\n",
    "                                )\n",
    "    )) as pr_INGREDIENTS\n",
    "  \n",
    "    -- reference uuids\n",
    "    , uuid_generate_v5(uuid_medication, pr.pharmacy_id::text) as uuid_DRUG\n",
    "FROM\n",
    "    mimic_hosp.prescriptions pr\n",
    "    LEFT JOIN fhir_etl.map_drug_id md\n",
    "        ON pr.drug = md.drug\n",
    "    LEFT JOIN vars ON true\n",
    "GROUP BY \n",
    "    pr.pharmacy_id\n",
    "    , uuid_medication\n",
    "LIMIT 10\n",
    "\n",
    "\"\"\"\n",
    "df_meds_mix = pd.read_sql_query(q_medication_mix,con)\n",
    "df_meds_mix"
   ]
  },
  {
   "cell_type": "markdown",
   "metadata": {},
   "source": [
    "## Create medication administration resource from prescriptions\n",
    "- With medication mixes being assigned in the Medication resource, medication administration fairly straight forward. Assign single FHIR medication to medication administration based on reference UUID."
   ]
  },
  {
   "cell_type": "markdown",
   "metadata": {},
   "source": [
    "## Create medication request resource from pharamcy\n",
    "- Pharmacy only has one medication per pharmacy_id vs prescription which allows multiple medications. The pharmacy table just grabs the main/base drug from prescription. So we can use the pharmacy table for the medication request"
   ]
  },
  {
   "cell_type": "code",
   "execution_count": null,
   "metadata": {},
   "outputs": [],
   "source": [
    "q_pharmacy_multi_med = \"\"\"\n",
    "SELECT pharmacy_id\n",
    "FROM mimic_hosp.pharmacy\n",
    "GROUP BY pharmacy_id\n",
    "HAVING COUNT(medication) > 2\n",
    "\"\"\"\n",
    "df_pharmacy_multi_med= pd.read_sql_query(q_pharmacy_multi_med,con)"
   ]
  },
  {
   "cell_type": "code",
   "execution_count": null,
   "metadata": {},
   "outputs": [],
   "source": [
    "q_prescription_multi_med = \"\"\"\n",
    "SELECT pharmacy_id\n",
    "FROM mimic_hosp.prescriptions\n",
    "GROUP BY pharmacy_id\n",
    "HAVING COUNT(drug) > 2\n",
    "\"\"\"\n",
    "df_prescription_multi_med= pd.read_sql_query(q_prescription_multi_med,con)"
   ]
  },
  {
   "cell_type": "code",
   "execution_count": null,
   "metadata": {},
   "outputs": [],
   "source": [
    "df_pharmacy_multi_med"
   ]
  },
  {
   "cell_type": "code",
   "execution_count": null,
   "metadata": {},
   "outputs": [],
   "source": [
    "df_prescription_multi_med"
   ]
  }
 ],
 "metadata": {
  "kernelspec": {
   "display_name": "Python 3 (ipykernel)",
   "language": "python",
   "name": "python3"
  },
  "language_info": {
   "codemirror_mode": {
    "name": "ipython",
    "version": 3
   },
   "file_extension": ".py",
   "mimetype": "text/x-python",
   "name": "python",
   "nbconvert_exporter": "python",
   "pygments_lexer": "ipython3",
   "version": "3.9.7"
  }
 },
 "nbformat": 4,
 "nbformat_minor": 4
}
