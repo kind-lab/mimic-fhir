{
 "cells": [
  {
   "cell_type": "markdown",
   "id": "3786daba-893c-4800-8b04-691cb90c26ca",
   "metadata": {},
   "source": [
    "# MIMIC-FHIR Medication\n",
    "An exploration of the medication in MIMIC and how best to map into FHIR"
   ]
  },
  {
   "cell_type": "code",
   "execution_count": null,
   "id": "576ddff1-1e49-42ab-8567-4e66322f06fc",
   "metadata": {
    "ExecuteTime": {
     "end_time": "2022-02-18T16:30:32.400971Z",
     "start_time": "2022-02-18T16:30:31.534520Z"
    }
   },
   "outputs": [],
   "source": [
    "%matplotlib inline\n",
    "# Imports\n",
    "import pandas as pd\n",
    "import numpy as np\n",
    "import psycopg2\n",
    "from pathlib import Path\n",
    "import json\n",
    "from uuid import uuid5, NAMESPACE_OID\n",
    "import datetime\n",
    "\n",
    "# Ubuntu backend not set up properly, switch to nbAgg\n",
    "import matplotlib.pyplot as plt\n",
    "import matplotlib.dates as mdates\n",
    "plt.switch_backend('nbAgg')\n",
    "plt.get_backend()\n",
    "\n",
    "plt.style.use('ggplot')\n",
    "plt.rcParams.update({'font.size': 20})"
   ]
  },
  {
   "cell_type": "code",
   "execution_count": null,
   "id": "57ce022e-5cee-42bc-94bc-557efdd134a0",
   "metadata": {
    "ExecuteTime": {
     "end_time": "2022-02-18T16:30:32.414080Z",
     "start_time": "2022-02-18T16:30:32.402132Z"
    }
   },
   "outputs": [],
   "source": [
    "# Database connection\n",
    "sqluser = 'postgres'\n",
    "sqlpass = 'postgres'\n",
    "dbname = 'mimic'\n",
    "host = 'localhost'\n",
    "\n",
    "db_conn = psycopg2.connect(dbname=dbname, user=sqluser, password=sqlpass, host=host)"
   ]
  },
  {
   "cell_type": "markdown",
   "id": "0d39e208",
   "metadata": {},
   "source": [
    "# Medication in FHIR\n",
    "Medication use in a hospital follows the flow of *prescribe -> dispense -> administer*. \n",
    "\n",
    "The FHIR representation of that flow is *MedicationRequest -> MedicationDispense -> MedicationAdministration*. \n",
    "\n",
    "To translate MIMIC medication information into FHIR we need to map the MIMIC tables into these three medication event resources plus a medication resource:\n",
    "- Medication: The definition of a medication or medication mix\n",
    "- MedicationRequest: The order for a medication and base instructions for use\n",
    "- MedicationDispense: The dispense event for a medication \n",
    "- MedicationAdministration: The administration event for a medication to a patient\n",
    "\n",
    "The primary medication tables in MIMIC are:\n",
    "- *prescriptions*: Provides information about prescribed medication\n",
    "- *pharmacy*: Provides information on filled medication based on a prescription\n",
    "- *emar*/*emar_detail*: The record of a medication administration to a patient\n",
    "  - emar events are only available for about half the patients as the system did not come into affect till post 2015\n",
    "- *inputevents*: ICU medication administration to a patient\n",
    "\n",
    "Throughout this tutorial you accomplish the following:\n",
    "- Differentiate how MIMIC and FHIR store medication\n",
    "- Follow a full patient medication workflow\n",
    "- See fragmented medication data (the reality of data)\n",
    "\n",
    "\n",
    "\n"
   ]
  },
  {
   "cell_type": "markdown",
   "id": "1b003477",
   "metadata": {},
   "source": [
    "# <u> MIMIC to FHIR medication translation </u>\n",
    "The medication mapped from MIMIC to FHIR are best described with some examples. The examples will use the following variables:"
   ]
  },
  {
   "cell_type": "code",
   "execution_count": null,
   "id": "defcde6c",
   "metadata": {
    "ExecuteTime": {
     "end_time": "2022-02-18T16:30:33.830559Z",
     "start_time": "2022-02-18T16:30:33.819526Z"
    }
   },
   "outputs": [],
   "source": [
    "# Medication UUID namespaces\n",
    "ns_mimic = uuid5(NAMESPACE_OID, 'MIMIC-IV')\n",
    "ns_med = uuid5(ns_mimic, 'Medication')\n",
    "ns_medreq = uuid5(ns_mimic, 'MedicationRequest')\n",
    "ns_meddisp = uuid5(ns_mimic, 'MedicationDispense')\n",
    "ns_medadmin = uuid5(ns_mimic, 'MedicationAdministration')\n",
    "ns_patient = uuid5(ns_mimic, 'Patient')"
   ]
  },
  {
   "cell_type": "code",
   "execution_count": null,
   "id": "619b9d4f",
   "metadata": {
    "ExecuteTime": {
     "end_time": "2022-02-16T20:20:13.528102Z",
     "start_time": "2022-02-16T20:20:13.519062Z"
    }
   },
   "outputs": [],
   "source": [
    "# Medication\n",
    "single_med_uuid = '8ef6df9c-e5bc-5c98-bc81-765f9f04bd81' # uuid generated from medication name\n",
    "med_mix_uuid = '7d960cd4-cef5-521d-9b77-6b6c86ce2b56' # uuid generated from medication names concatentated\n",
    "\n",
    "# MedicationRequest\n",
    "single_medreq_id = 50814\n",
    "single_medreq_uuid = str(uuid5(ns_medreq,str(single_medreq_id)))\n",
    "medreq_mix_id = 15849072\n",
    "medreq_mix_uuid = str(uuid5(ns_medreq,str(medreq_mix_id)))\n",
    "poe_medreq_id = '10000032-126'\n",
    "poe_medreq_uuid = str(uuid5(ns_medreq,str(poe_medreq_id)))\n",
    "\n",
    "#MedicationDispense\n",
    "meddisp_id = 26267497\n",
    "meddisp_uuid = str(uuid5(ns_meddisp,str(meddisp_id)))\n",
    "\n",
    "#MedicationAdministration\n",
    "medadmin_id = '10002443-26-1.10' # combination of emar_id, and parent_field_ordinal\n",
    "medadmin_uuid = str(uuid5(ns_medadmin,str(medadmin_id)))"
   ]
  },
  {
   "cell_type": "code",
   "execution_count": null,
   "id": "732df717",
   "metadata": {
    "ExecuteTime": {
     "end_time": "2022-02-16T20:17:57.094771Z",
     "start_time": "2022-02-16T20:17:57.089828Z"
    }
   },
   "outputs": [],
   "source": [
    "medadmin_uuid"
   ]
  },
  {
   "cell_type": "code",
   "execution_count": null,
   "id": "4ff8caac",
   "metadata": {
    "ExecuteTime": {
     "end_time": "2022-02-16T19:17:49.174356Z",
     "start_time": "2022-02-16T19:17:49.165973Z"
    }
   },
   "outputs": [],
   "source": [
    "str(a)"
   ]
  },
  {
   "cell_type": "markdown",
   "id": "44b505a5",
   "metadata": {},
   "source": [
    "## 1. Creating Medication resources from MIMIC\n",
    "Medication is not stored in one data table in MIMIC but distributed across multiple. The medication sources from MIMIC are:\n",
    "- mimiciv_hosp.prescriptions drug\n",
    "- mimiciv_icu.d_items label\n",
    "  - d_items contains a subset of the total medication in MIMIC, as these are the most applicable to the ICU\n",
    "\n",
    "The tables are all combined together and distinct medication are kept.There are two main types of medication resources created. \n",
    "1. Single medication \n",
    "2. Medication mix (multiple)\n",
    "\n",
    "### 1.1 Medication: Single Medication\n",
    "Prescriptions with only one drug associated with them fall in this category (majority of prescriptions). All d_items medication are single medication resources. For this example we will pull in a prescription medication and compare it to the FHIR Medication resource."
   ]
  },
  {
   "cell_type": "code",
   "execution_count": null,
   "id": "05bbf364",
   "metadata": {
    "ExecuteTime": {
     "end_time": "2022-02-16T17:14:42.023507Z",
     "start_time": "2022-02-16T17:14:41.471440Z"
    }
   },
   "outputs": [],
   "source": [
    "q_single_med = f\"\"\" \n",
    "    SELECT *\n",
    "    FROM mimiciv_hosp.prescriptions pr\n",
    "    WHERE pr.pharmacy_id = {single_medreq_id}\n",
    "\"\"\"\n",
    "single_med = pd.read_sql_query(q_single_med, db_conn)\n",
    "single_med.head()"
   ]
  },
  {
   "cell_type": "markdown",
   "id": "bebcd3ad",
   "metadata": {},
   "source": [
    "And in FHIR the same medication information looks like this:"
   ]
  },
  {
   "cell_type": "code",
   "execution_count": null,
   "id": "9c89b405",
   "metadata": {
    "ExecuteTime": {
     "end_time": "2022-02-16T17:14:44.928428Z",
     "start_time": "2022-02-16T17:14:44.917517Z"
    }
   },
   "outputs": [],
   "source": [
    "q_single_med_fhir = f\"\"\" \n",
    "    SELECT * \n",
    "    FROM mimic_fhir.medication\n",
    "    WHERE id = '{single_med_uuid}' -- uuid generated from pharmacy_id\n",
    "\"\"\"\n",
    "single_med_fhir = pd.read_sql_query(q_single_med_fhir, db_conn)\n",
    "print(json.dumps(single_med_fhir.fhir[0], indent=4))"
   ]
  },
  {
   "cell_type": "markdown",
   "id": "b5708795",
   "metadata": {},
   "source": [
    "### 1.2 Medication: Medication Mix\n",
    "For some prescriptions there are multiple medication associated with a single pharmacy_id. In FHIR medication request and administrations can only reference a single medication, so these medication mixes must be made into a single Medication resource."
   ]
  },
  {
   "cell_type": "code",
   "execution_count": null,
   "id": "561f61c0",
   "metadata": {
    "ExecuteTime": {
     "end_time": "2022-02-16T17:14:53.733689Z",
     "start_time": "2022-02-16T17:14:53.178835Z"
    }
   },
   "outputs": [],
   "source": [
    "q_med_mix = f\"\"\" \n",
    "    SELECT *\n",
    "    FROM mimiciv_hosp.prescriptions \n",
    "    WHERE pharmacy_id = {medreq_mix_id} \n",
    "\"\"\"\n",
    "med_mix = pd.read_sql_query(q_med_mix, db_conn)\n",
    "med_mix.head()"
   ]
  },
  {
   "cell_type": "markdown",
   "id": "01da6b39",
   "metadata": {},
   "source": [
    "And in FHIR the same information is reprented in a json format. There are are two main things to notice here:\n",
    "- The medication code is a concatentation of all the drug names. The format for the concatentation is based on the `drug_type` in prescriptions. So the format is effectively MAIN_BASE_ADDITIVE_ADDITIVE, where the additives are ordered alphabetically.\n",
    "- The second is that in a medicaiton mix, the base medication are all referenced in ingredients. If you looked up each ingredient you would get a Medication resource for the MAIN, BASE, and ADDITIVE medication."
   ]
  },
  {
   "cell_type": "code",
   "execution_count": null,
   "id": "6355f961",
   "metadata": {
    "ExecuteTime": {
     "end_time": "2022-02-16T16:42:47.514813Z",
     "start_time": "2022-02-16T16:42:47.504888Z"
    }
   },
   "outputs": [],
   "source": [
    "q_med_mix_fhir = f\"\"\" \n",
    "    SELECT * \n",
    "    FROM mimic_fhir.medication\n",
    "    WHERE id = '{med_mix_uuid}' -- uuid generated from pharmacy_id\n",
    "\"\"\"\n",
    "med_mix_fhir = pd.read_sql_query(q_med_mix_fhir, db_conn)\n",
    "print(json.dumps(med_mix_fhir.fhir[0], indent=4))"
   ]
  },
  {
   "cell_type": "markdown",
   "id": "0ebf5ed6",
   "metadata": {
    "ExecuteTime": {
     "end_time": "2022-02-16T15:46:24.441511Z",
     "start_time": "2022-02-16T15:46:24.435613Z"
    }
   },
   "source": [
    "## 2. Creating MedicationRequest from MIMIC\n",
    "The prescriptions table holds the primary medication request information in MIMIC. Secondary information is pulled in from *pharmacy* and some IV med requests are created separtely from *poe* when information is not in *prescriptions*. There are three main types of medication request that are created:\n",
    "1. Single medication prescription\n",
    "2. Medication mixes representing multiple medications requested in one prescription\n",
    "3. IV medication that are not in *prescriptions*. This is where *poe* comes in\n",
    "\n",
    "### 2.1. MedicationRequest: Single Medication\n",
    "- To get a single medication prescription group by the pharmacy_id and only grab prescriptions with one drug linked\n",
    "- For this example that has already been completed so one prescription is selected with a single medication\n",
    "- The pharmacy table has been joined to grab the `entertime` of the prescription, since it is useful information to have for the medication request"
   ]
  },
  {
   "cell_type": "code",
   "execution_count": null,
   "id": "24ed8acc",
   "metadata": {
    "ExecuteTime": {
     "end_time": "2022-02-16T19:25:49.505214Z",
     "start_time": "2022-02-16T19:25:48.410889Z"
    }
   },
   "outputs": [],
   "source": [
    "q_single_med = f\"\"\" \n",
    "    SELECT \n",
    "        pr.*\n",
    "        , ph.entertime\n",
    "        , ph.medication\n",
    "    FROM \n",
    "        mimiciv_hosp.prescriptions pr\n",
    "        LEFT JOIN mimiciv_hosp.pharmacy ph\n",
    "            ON pr.pharmacy_id = ph.pharmacy_id\n",
    "    WHERE pr.pharmacy_id = {single_medreq_id}\n",
    "\"\"\"\n",
    "single_med = pd.read_sql_query(q_single_med, db_conn)\n",
    "single_med.head()"
   ]
  },
  {
   "cell_type": "markdown",
   "id": "a256b55b",
   "metadata": {},
   "source": [
    "In FHIR this same row will be represented as a MedicationRequest. There are a few things to note here:\n",
    "- `id` is a generated uuid based on `pharmacy_id`\n",
    "- The `pharmacy_id` is still kept in its raw form but stored as an `identfier.value`\n",
    "- All `status` are set to 'completed' and `intent` to 'order' for MIMIC prescriptions\n",
    "- `product_strength` is stored in `dosageInstruction.text` so that general information can get into the resource\n",
    "- The MedicationRequest has references out to Patient, Encounter, and Medication"
   ]
  },
  {
   "cell_type": "code",
   "execution_count": null,
   "id": "34b7efe1",
   "metadata": {
    "ExecuteTime": {
     "end_time": "2022-02-16T17:15:55.219765Z",
     "start_time": "2022-02-16T17:15:55.207842Z"
    }
   },
   "outputs": [],
   "source": [
    "q_single_med_fhir = f\"\"\" \n",
    "    SELECT * \n",
    "    FROM mimic_fhir.medication_request \n",
    "    WHERE id = '{single_medreq_uuid}' -- uuid generated from pharmacy_id\n",
    "\"\"\"\n",
    "single_med_fhir = pd.read_sql_query(q_single_med_fhir, db_conn)\n",
    "print(json.dumps(single_med_fhir.fhir[0], indent=4))"
   ]
  },
  {
   "cell_type": "markdown",
   "id": "894bce3d",
   "metadata": {},
   "source": [
    "### 2.2 MedicationRequest: Medication Mix\n",
    "- To get a medication mix prescription, group by the pharmacy_id and only grab prescriptions with 2+ drugs linked\n",
    "- For this example that has already been completed, so one prescription is selected with a medication mix"
   ]
  },
  {
   "cell_type": "code",
   "execution_count": null,
   "id": "9bd87042",
   "metadata": {
    "ExecuteTime": {
     "end_time": "2022-02-16T17:17:07.933636Z",
     "start_time": "2022-02-16T17:17:04.750683Z"
    }
   },
   "outputs": [],
   "source": [
    "q_med_mix = f\"\"\" \n",
    "    SELECT \n",
    "        pr.*\n",
    "        , ph.entertime\n",
    "    FROM \n",
    "        mimiciv_hosp.prescriptions pr\n",
    "        LEFT JOIN mimiciv_hosp.pharmacy ph\n",
    "            ON pr.pharmacy_id = ph.pharmacy_id\n",
    "    WHERE pr.pharmacy_id = {medreq_mix_id}\n",
    "\"\"\"\n",
    "med_mix = pd.read_sql_query(q_med_mix, db_conn)\n",
    "med_mix.head()"
   ]
  },
  {
   "cell_type": "markdown",
   "id": "c3fc530e",
   "metadata": {},
   "source": [
    "In FHIR all four rows will be collapsed into one MedicationRequest. Things to note:\n",
    "- The resource is effectively the same as the single medication request\n",
    "- There is only one Medication referenced in MedicationRequest, even throuhg this prescription has for meds. The medication have been grouped into a medication mix as described in the [Medication mix section](#1.2-Medication:-Medication-Mix). \n",
    "- Additional information is pulled in from *pharmacy* to get the `repeat.duration`"
   ]
  },
  {
   "cell_type": "code",
   "execution_count": null,
   "id": "6912b1cd",
   "metadata": {
    "ExecuteTime": {
     "end_time": "2022-02-16T17:17:30.186400Z",
     "start_time": "2022-02-16T17:17:30.175563Z"
    }
   },
   "outputs": [],
   "source": [
    "q_med_mix_fhir = f\"\"\" \n",
    "    SELECT * \n",
    "    FROM mimic_fhir.medication_request \n",
    "    WHERE id = '{medreq_mix_uuid}' -- uuid generated from pharmacy_id\n",
    "\"\"\"\n",
    "med_mix_fhir = pd.read_sql_query(q_med_mix_fhir, db_conn)\n",
    "print(json.dumps(med_mix_fhir.fhir[0], indent=4))"
   ]
  },
  {
   "cell_type": "markdown",
   "id": "ddabaa43",
   "metadata": {},
   "source": [
    "### 2.3 MedicationRequest: poe orders\n",
    "For common medication used in the hospital there are times when no prescription is created. These orders are still present in *poe*. All medication requests that do not show up in *prescriptions* or *pharmacy* are present in *poe*. There is less detailed information available for these orders but they are often straight IV meds."
   ]
  },
  {
   "cell_type": "code",
   "execution_count": null,
   "id": "f12fc092",
   "metadata": {
    "ExecuteTime": {
     "end_time": "2022-02-16T17:29:28.656427Z",
     "start_time": "2022-02-16T17:29:24.667659Z"
    }
   },
   "outputs": [],
   "source": [
    "q_poe_medreq = f\"\"\" \n",
    "    SELECT\n",
    "        poe.poe_id \n",
    "        , poe.subject_id \n",
    "        , poe.hadm_id \n",
    "        , poe.ordertime \n",
    "        , order_status\n",
    "        , em.medication\n",
    "\n",
    "    FROM\n",
    "        mimiciv_hosp.poe poe\n",
    "        LEFT JOIN mimiciv_hosp.emar em\n",
    "            ON poe.poe_id = em.poe_id \n",
    "    WHERE poe.poe_id = '{poe_medreq_id}'\n",
    "\"\"\"\n",
    "poe_medreq = pd.read_sql_query(q_poe_medreq, db_conn)\n",
    "poe_medreq.head()"
   ]
  },
  {
   "cell_type": "markdown",
   "id": "a2eb7e42",
   "metadata": {},
   "source": [
    "In FHIR the poe order creates a MedicationRequest that will be smaller than the *prescriptions* MedicationRequest because there is less supporting information. The essential information is still present:\n",
    "- References to Patient, Encounter, and Medication\n",
    "- The `status` is set, but most poe order status are NULL with only a few being active/inactive\n",
    "- The `authoredOn` time is present, as it is useful to know when the order was created"
   ]
  },
  {
   "cell_type": "code",
   "execution_count": null,
   "id": "cad8acf8",
   "metadata": {
    "ExecuteTime": {
     "end_time": "2022-02-16T17:31:20.315576Z",
     "start_time": "2022-02-16T17:31:20.307480Z"
    }
   },
   "outputs": [],
   "source": [
    "q_poe_medreq_fhir = f\"\"\" \n",
    "    SELECT * \n",
    "    FROM mimic_fhir.medication_request \n",
    "    WHERE id = '{poe_medreq_uuid}' -- uuid generated from poe_id\n",
    "\"\"\"\n",
    "poe_medreq_fhir = pd.read_sql_query(q_poe_medreq_fhir, db_conn)\n",
    "print(json.dumps(poe_medreq_fhir.fhir[0], indent=4))"
   ]
  },
  {
   "cell_type": "markdown",
   "id": "7f6367ed",
   "metadata": {},
   "source": [
    "## 3. Creating MedicationDispense from MIMIC\n",
    "In MIMIC not all medication workflows include a dispense step. The source of dispense is *pharmacy*. So for ICU inputevents there is no dispense event so the flow just become MedicationRequest->MedicationAdministration.\n",
    "\n",
    "The MedicationDispense resource takes information from the prescription as well as reference the medication administrations that use the dispense. The *pharmacy* table holds the dispense information:"
   ]
  },
  {
   "cell_type": "code",
   "execution_count": null,
   "id": "cfc53e2f",
   "metadata": {
    "ExecuteTime": {
     "end_time": "2022-02-16T19:40:31.921058Z",
     "start_time": "2022-02-16T19:40:31.361857Z"
    }
   },
   "outputs": [],
   "source": [
    "q_meddisp = f\"\"\" \n",
    "    SELECT *\n",
    "    FROM\n",
    "        mimiciv_hosp.pharmacy\n",
    "    WHERE pharmacy_id = '{meddisp_id}'\n",
    "\"\"\"\n",
    "meddisp = pd.read_sql_query(q_meddisp, db_conn)\n",
    "meddisp.head()"
   ]
  },
  {
   "cell_type": "markdown",
   "id": "01dc1601",
   "metadata": {
    "ExecuteTime": {
     "end_time": "2022-02-16T19:28:33.320056Z",
     "start_time": "2022-02-16T19:28:33.310979Z"
    }
   },
   "source": [
    "The MedicationDisepense is a good encapsulation of the medication workflow. What we see:\n",
    "- The dispense references the Medication dispensed, the MedicationRequest that lead to the dispense and the MedicationAdministrations that used the dispensed medication\n",
    "  - Multiple MedicationAdministration can be referenced\n",
    "- `dosageInstruction` come from the *pharmacy* details\n",
    "- `status` is fixed to 'completed' as there is no valid mapping for a dispense status in MIMIC"
   ]
  },
  {
   "cell_type": "code",
   "execution_count": null,
   "id": "c8e6842f",
   "metadata": {
    "ExecuteTime": {
     "end_time": "2022-02-16T19:40:34.971975Z",
     "start_time": "2022-02-16T19:40:34.960649Z"
    }
   },
   "outputs": [],
   "source": [
    "q_meddisp_fhir = f\"\"\" \n",
    "    SELECT * \n",
    "    FROM mimic_fhir.medication_dispense\n",
    "    WHERE id = '{meddisp_uuid}' -- uuid generated from pharmacy_id\n",
    "\"\"\"\n",
    "meddisp_fhir = pd.read_sql_query(q_meddisp_fhir, db_conn)\n",
    "print(json.dumps(meddisp_fhir.fhir[0], indent=4))"
   ]
  },
  {
   "cell_type": "markdown",
   "id": "6fa1280d",
   "metadata": {},
   "source": [
    "## 4. Creating MedicationAdministration from MIMIC\n",
    "Medication administration is split between two locations in MIMIC: *emar* and *inputevents*. For now this tutorial will focus on *emar*. *emar* records every medication administration with barcode reads. The *emar* table links with the *emar_detail* table to get specifics if there were multiple steps in administering the medicaiton. \n",
    "\n",
    "\n",
    "A combo of *emar* and *emar_detail* are used to generate MedicationAdministration. Each row in *emar_detail* is taken as a MedicationAdministration with info from *emar* filling in the blanks.\n",
    "\n"
   ]
  },
  {
   "cell_type": "code",
   "execution_count": null,
   "id": "d66700cc",
   "metadata": {
    "ExecuteTime": {
     "end_time": "2022-02-16T20:22:18.710048Z",
     "start_time": "2022-02-16T20:22:04.695233Z"
    }
   },
   "outputs": [],
   "source": [
    "q_meddisp = f\"\"\" \n",
    "    SELECT \n",
    "        emd.emar_id\n",
    "        , parent_field_ordinal\n",
    "        , emd.pharmacy_id\n",
    "        , dose_given\n",
    "        , dose_given_unit\n",
    "        , product_description\n",
    "        , em.medication\n",
    "    FROM\n",
    "        mimiciv_hosp.emar_detail emd\n",
    "        LEFT JOIN mimiciv_hosp.emar em\n",
    "            ON emd.emar_id = em.emar_id\n",
    "    WHERE emd.emar_id || '-' || parent_field_ordinal = '{medadmin_id}'\n",
    "\"\"\"\n",
    "meddisp = pd.read_sql_query(q_meddisp, db_conn)\n",
    "meddisp.head()"
   ]
  },
  {
   "cell_type": "markdown",
   "id": "b8c55273",
   "metadata": {},
   "source": [
    "The MedicationAdministration resource will grab the above to create the resource. Some notes:\n",
    "- The administration will reference the Medication, MedicationRequest, Patient and Encounter\n",
    "- The administration does NOT reference the MedicationDispense (yet, no spot in the resource currently)\n",
    "- The actual dose given is supplied in `dosage.dose`\n",
    "- The time of medication administration is stored in `effectiveDateTime`\n",
    "- If you want to see the actual medication, you need to pull in the referenced Medication resource"
   ]
  },
  {
   "cell_type": "code",
   "execution_count": null,
   "id": "0fe3a42d",
   "metadata": {
    "ExecuteTime": {
     "end_time": "2022-02-16T20:32:23.267767Z",
     "start_time": "2022-02-16T20:32:23.252199Z"
    }
   },
   "outputs": [],
   "source": [
    "q_medadmin_fhir = f\"\"\" \n",
    "    SELECT * \n",
    "    FROM mimic_fhir.medication_administration\n",
    "    WHERE id = '{medadmin_uuid}' -- uuid generated from emar_id and parent_field_ordinal\n",
    "\"\"\"\n",
    "medadmin_fhir = pd.read_sql_query(q_medadmin_fhir, db_conn)\n",
    "print(json.dumps(medadmin_fhir.fhir[0], indent=4))"
   ]
  },
  {
   "cell_type": "markdown",
   "id": "1c93ae42",
   "metadata": {},
   "source": [
    "Pull in Medication resource based on the medicationReference. This will show what medication is actually administered"
   ]
  },
  {
   "cell_type": "code",
   "execution_count": null,
   "id": "8f7898e8",
   "metadata": {
    "ExecuteTime": {
     "end_time": "2022-02-16T20:37:37.102874Z",
     "start_time": "2022-02-16T20:37:37.088967Z"
    }
   },
   "outputs": [],
   "source": [
    "med_uuid = medadmin_fhir.fhir[0]['medicationReference']['reference'].split('/')[1]\n",
    "\n",
    "q_medadmin_med = f\"\"\" \n",
    "    SELECT * \n",
    "    FROM mimic_fhir.medication\n",
    "    WHERE id = '{med_uuid}' \n",
    "\"\"\"\n",
    "medadmin_med = pd.read_sql_query(q_medadmin_med, db_conn)\n",
    "print(json.dumps(medadmin_med.fhir[0], indent=4))"
   ]
  },
  {
   "cell_type": "markdown",
   "id": "3762c802",
   "metadata": {},
   "source": [
    "## 5. FHIR medication following patients \n",
    "We can learn a lot of how the FHIR medication works by following a couple patients medication experiences.\n",
    "\n",
    "We will look at 3 cases\n",
    "1. Patient with emar information\n",
    "2. Patient without emar information\n",
    "3. Patient in the ICU, so using inputevents\n",
    "\n",
    "What we will have\n",
    "- A couple medication request\n",
    "- A couple medication dispense\n",
    "- Many emar events\n",
    "- Show linking back to medication\n",
    "- Some visual? \n",
    "  - Have timing for the request\n",
    "  - Have timing for the administration"
   ]
  },
  {
   "cell_type": "markdown",
   "id": "09a961b0",
   "metadata": {},
   "source": [
    "### 5.1 Patient with emar information"
   ]
  },
  {
   "cell_type": "code",
   "execution_count": null,
   "id": "2ed178eb",
   "metadata": {
    "ExecuteTime": {
     "end_time": "2022-02-18T14:15:38.411390Z",
     "start_time": "2022-02-18T14:15:38.404085Z"
    }
   },
   "outputs": [],
   "source": [
    "# Medication details\n",
    "subject_id = 10002618\n",
    "patient_uuid = str(uuid5(ns_patient, str(subject_id)))"
   ]
  },
  {
   "cell_type": "code",
   "execution_count": null,
   "id": "23a8cf9d",
   "metadata": {
    "ExecuteTime": {
     "end_time": "2022-02-18T14:15:38.869230Z",
     "start_time": "2022-02-18T14:15:38.835349Z"
    }
   },
   "outputs": [],
   "source": [
    "# Get medrequests associated\n",
    "q_medreq_p1 = f\"\"\" \n",
    "    SELECT * \n",
    "    FROM mimic_fhir.medication_request\n",
    "    WHERE patient_id = '{patient_uuid}' \n",
    "\"\"\"\n",
    "medreq_p1 = pd.read_sql_query(q_medreq_p1, db_conn)\n",
    "\n",
    "# Get meddispenses associated\n",
    "q_meddisp_p1 = f\"\"\" \n",
    "    SELECT * \n",
    "    FROM mimic_fhir.medication_dispense\n",
    "    WHERE patient_id = '{patient_uuid}' \n",
    "\"\"\"\n",
    "meddisp_p1 = pd.read_sql_query(q_meddisp_p1, db_conn)\n",
    "\n",
    "# Get medadmin associated\n",
    "q_medadmin_p1 = f\"\"\" \n",
    "    SELECT * \n",
    "    FROM mimic_fhir.medication_administration\n",
    "    WHERE patient_id = '{patient_uuid}' \n",
    "\"\"\"\n",
    "medadmin_p1 = pd.read_sql_query(q_medadmin_p1, db_conn)\n",
    "\n",
    "print(f'Count of references: MedicationRequest: {medreq_p1.shape[0]}, MedicationDispense: {meddisp_p1.shape[0]}, MedicationAdministration: {medadmin_p1.shape[0]}')"
   ]
  },
  {
   "cell_type": "markdown",
   "id": "bc7d8b7d",
   "metadata": {
    "ExecuteTime": {
     "end_time": "2022-02-17T14:37:53.924634Z",
     "start_time": "2022-02-17T14:37:53.916495Z"
    }
   },
   "source": [
    "From the patient we pulled in we can start to see the medication workflow. Medication gets prescribed with MedicationRequests, then dispensed from the pharmacy with MedicationDispense, and finally the medication gets administred in MedicationAdministration.\n",
    "\n",
    "But then why are there more requests than dispenses? This arises from multiple origins of MedicationRequests. We can look at the origin based on the identifier.type in MedicationRequest"
   ]
  },
  {
   "cell_type": "code",
   "execution_count": null,
   "id": "03314773",
   "metadata": {
    "ExecuteTime": {
     "end_time": "2022-02-18T14:15:40.754044Z",
     "start_time": "2022-02-18T14:15:40.743238Z"
    }
   },
   "outputs": [],
   "source": [
    "id_type = [fhir['identifier'][0]['type']['coding'][0]['value'] for fhir in medreq_p1.fhir]\n",
    "print(f'Pharmacy ID occur {id_type.count(\"phid\")} times, and POE id occur {id_type.count(\"poe\")} times')"
   ]
  },
  {
   "cell_type": "markdown",
   "id": "18d12204",
   "metadata": {},
   "source": [
    "From looking at the identifier type we can see that of the 23 requests, 5 were poe so 18 were normal prescription requests. That still leaves 2 requests that are not translated into dispenses. The other reason a request does not become a dispense is when the medication is NULL in *pharmacy*, but populated in *prescriptions*. As a sanity check we can pull in the rows of *pharmacy* with `pharmacy_id` in the medication request. "
   ]
  },
  {
   "cell_type": "code",
   "execution_count": null,
   "id": "03e5b684",
   "metadata": {
    "ExecuteTime": {
     "end_time": "2022-02-18T14:15:54.363298Z",
     "start_time": "2022-02-18T14:15:45.385671Z"
    }
   },
   "outputs": [],
   "source": [
    "# Grab the pharmacy_ids\n",
    "pharmacy_ids = [int(fhir['identifier'][0]['value']) for fhir in medreq_p1.fhir \\\n",
    "                if fhir['identifier'][0]['type']['coding'][0]['value'] == 'phid']\n",
    "\n",
    "# Get pharmacy medication and prescription drug\n",
    "q_ph_meds = f\"\"\" \n",
    "    SELECT \n",
    "        ph.pharmacy_id\n",
    "        , ph.medication as ph_medication \n",
    "        , pr.drug as pr_medication\n",
    "    FROM \n",
    "        mimiciv_hosp.pharmacy ph\n",
    "        LEFT JOIN mimiciv_hosp.prescriptions pr\n",
    "            ON ph.pharmacy_id = pr.pharmacy_id\n",
    "    WHERE ph.pharmacy_id IN {tuple(pharmacy_ids)} \n",
    "\"\"\"\n",
    "ph_meds = pd.read_sql_query(q_ph_meds, db_conn)"
   ]
  },
  {
   "cell_type": "code",
   "execution_count": null,
   "id": "eb2ff844",
   "metadata": {
    "ExecuteTime": {
     "end_time": "2022-02-18T14:15:54.376943Z",
     "start_time": "2022-02-18T14:15:54.364742Z"
    }
   },
   "outputs": [],
   "source": [
    "ph_meds.sort_values(by='ph_medication')"
   ]
  },
  {
   "cell_type": "markdown",
   "id": "677fc35a",
   "metadata": {},
   "source": [
    "Two of the pharmacy rows have None values, even though the prescription has a filled in medication. When generating the FHIR resources, we cannot assume that the prescription information gets translated to dispense, so these two None rows get omitted.\n",
    "\n",
    "Now lets follow one medication for this patient through the full prescribe->dispense->administer process in FHIR. Heparin is a standard medication given regularly out to patients. Let's take the top pharmacy_id and folllow it."
   ]
  },
  {
   "cell_type": "code",
   "execution_count": null,
   "id": "25c760fa",
   "metadata": {
    "ExecuteTime": {
     "end_time": "2022-02-18T14:38:24.876906Z",
     "start_time": "2022-02-18T14:38:24.862300Z"
    }
   },
   "outputs": [],
   "source": [
    "medication = 'Heparin'\n",
    "medreq1_id = ph_meds.loc[np.where(ph_meds['ph_medication'] == medication)[0][0]]['pharmacy_id']\n",
    "medreq1_uuid = str(uuid5(ns_medreq, str(medreq1_id)))\n",
    "\n",
    "# Medication request timing\n",
    "medreq = [fhir for fhir in medreq_p1.fhir if fhir['id'] == medreq1_uuid][0]\n",
    "\n",
    "## Locate all dispense and admin events associated with the medreq\n",
    "meddisp1_uuids = [fhir['id'] for fhir in meddisp_p1.fhir \\\n",
    "                 if fhir['authorizingPrescription'][0]['reference'] == f'MedicationRequest/{medreq1_uuid}']\n",
    "\n",
    "medadmin1_uuids = [fhir['id'] for fhir in medadmin_p1.fhir if fhir['request'] != {} \n",
    "                  and fhir['request']['reference'] == f'MedicationRequest/{medreq1_uuid}']\n",
    "#meadmin1_uuids = [fhir for fhir in medadmin_with_requests \\\n",
    "#                 if fhir['request']['reference'] == f'MedicationRequest/{medreq1_uuid}']\n",
    "\n",
    "# Medication administration info\n",
    "medadmin1_timing = [datetime.datetime.strptime(fhir['effectiveDateTime'][0:19], '%Y-%m-%dT%H:%M:%S') \n",
    "                    for fhir in medadmin_p1.fhir if fhir['id'] in medadmin1_uuids] \n",
    "\n",
    "medadmin1_dose = [fhir['dosage']['dose']['value']\n",
    "                    for fhir in medadmin_p1.fhir if fhir['id'] in medadmin1_uuids] \n",
    "\n",
    "medadmin1_dose_unit = [fhir['dosage']['dose']['unit']\n",
    "                    for fhir in medadmin_p1.fhir if fhir['id'] in medadmin1_uuids] "
   ]
  },
  {
   "cell_type": "code",
   "execution_count": null,
   "id": "efc637eb",
   "metadata": {
    "ExecuteTime": {
     "end_time": "2022-02-18T14:41:16.312277Z",
     "start_time": "2022-02-18T14:41:16.308035Z"
    }
   },
   "outputs": [],
   "source": [
    "datetime.datetime.strptime('2173-12-03T20:00:00-05:00'[0:19], '%Y-%m-%dT%H:%M:%S')"
   ]
  },
  {
   "cell_type": "code",
   "execution_count": null,
   "id": "9e3da5b2",
   "metadata": {
    "ExecuteTime": {
     "end_time": "2022-02-18T14:37:10.832906Z",
     "start_time": "2022-02-18T14:37:10.828072Z"
    }
   },
   "outputs": [],
   "source": [
    "medreq['dispenseRequest']['validityPeriod']['start']"
   ]
  },
  {
   "cell_type": "code",
   "execution_count": null,
   "id": "afb85bbd",
   "metadata": {
    "ExecuteTime": {
     "end_time": "2022-02-18T14:41:56.890931Z",
     "start_time": "2022-02-18T14:41:56.882109Z"
    }
   },
   "outputs": [],
   "source": [
    "medreq = [fhir for fhir in medreq_p1.fhir if fhir['id'] == medreq1_uuid][0]\n",
    "\n",
    "# Convert times to datetime, and drop timezone\n",
    "starttime = datetime.datetime.strptime(medreq['dispenseRequest']['validityPeriod']['start'][0:19], '%Y-%m-%dT%H:%M:%S')\n",
    "endtime = datetime.datetime.strptime(medreq['dispenseRequest']['validityPeriod']['end'][0:19], '%Y-%m-%dT%H:%M:%S')\n",
    "dose = int(medreq['dosageInstruction'][0]['doseAndRate'][0]['doseQuantity']['value'])\n",
    "unit = medreq['dosageInstruction'][0]['doseAndRate'][0]['doseQuantity']['unit']"
   ]
  },
  {
   "cell_type": "code",
   "execution_count": null,
   "id": "5580b6b4",
   "metadata": {
    "ExecuteTime": {
     "end_time": "2022-02-18T14:41:59.207946Z",
     "start_time": "2022-02-18T14:41:59.200389Z"
    }
   },
   "outputs": [],
   "source": [
    "starttime"
   ]
  },
  {
   "cell_type": "markdown",
   "id": "f51b5183",
   "metadata": {},
   "source": [
    "The MedicationRequest information for Heparin is the length of the prescription and the dose prescribed. Below is a visual of the MedicationRequest information for Heparin in this patient."
   ]
  },
  {
   "cell_type": "code",
   "execution_count": null,
   "id": "a7b6a494",
   "metadata": {
    "ExecuteTime": {
     "end_time": "2022-02-18T14:42:28.312122Z",
     "start_time": "2022-02-18T14:42:28.116528Z"
    }
   },
   "outputs": [],
   "source": [
    "# Medication Request\n",
    "%matplotlib inline\n",
    "plt.rcParams.update({'font.size': 20})\n",
    "plt.figure(figsize=[12,8])\n",
    "x = [starttime, endtime]\n",
    "y = [dose, dose]\n",
    "plt.plot(x, y, 'o-', alpha=0.5, label=medication)\n",
    "plt.ylabel(f'{medication} Dose ({unit})')\n",
    "plt.xlabel('Datetime')\n",
    "#plt.xticks(rotation=45)\n",
    "#plt.legend(loc = \"best\")\n",
    "plt.legend(loc = 'lower right')\n",
    "plt.ylim(bottom=0)\n",
    "plt.tight_layout()\n",
    "\n",
    "\n",
    "# concise dates on the x-axis\n",
    "ax = plt.gca()\n",
    "locator = mdates.AutoDateLocator(minticks=3, maxticks=7)\n",
    "formatter = mdates.ConciseDateFormatter(locator)\n",
    "ax.xaxis.set_major_locator(locator)\n",
    "ax.xaxis.set_major_formatter(formatter)\n",
    "\n",
    "\n",
    "plt.show()"
   ]
  },
  {
   "cell_type": "markdown",
   "id": "3cebcc8f",
   "metadata": {},
   "source": [
    "The MedicationDispense is next but we do not have a specific time associated with the dispense from MIMIC. The purpose of the MedicationDispense is that the medication can differ going from *prescriptions* to *pharmacy*. Now onto MedicationAdminstration.\n",
    "\n",
    "The MedicationAdministration information for a patient is the administration time and the dose delivered. Below is a visual represetnation of the MedicationAdministration of heparin in the patient. As you can see the MedicationAdministration timing lines up inside the bounds MedicationRequest time."
   ]
  },
  {
   "cell_type": "code",
   "execution_count": null,
   "id": "d68b044f",
   "metadata": {
    "ExecuteTime": {
     "end_time": "2022-02-18T14:52:00.077966Z",
     "start_time": "2022-02-18T14:51:59.918286Z"
    }
   },
   "outputs": [],
   "source": [
    "# Medication administration of heparin\n",
    "\n",
    "#plt.rcParams.update({'font.size': 20})\n",
    "plt.figure(figsize=[12,8])\n",
    "x = medadmin1_timing\n",
    "y = medadmin1_dose\n",
    "plt.plot(x,y, 'o')\n",
    "plt.ylabel(f'{medication} Dose ({medadmin1_dose_unit[0]})')\n",
    "plt.xlabel('Datetime')\n",
    "plt.ylim(bottom=0)\n",
    "plt.tight_layout()\n",
    "\n",
    "# concise dates on the x-axis\n",
    "ax = plt.gca()\n",
    "locator = mdates.AutoDateLocator(minticks=3, maxticks=7)\n",
    "formatter = mdates.ConciseDateFormatter(locator)\n",
    "ax.xaxis.set_major_locator(locator)\n",
    "ax.xaxis.set_major_formatter(formatter)\n",
    "\n",
    "plt.show()"
   ]
  },
  {
   "cell_type": "markdown",
   "id": "eadfa497",
   "metadata": {},
   "source": [
    "## 5.2 Patient without emar\n",
    "Prior to 2015 there was no emar records. So all records were manual documentation that are stored in *inputevents* and have been created as MedicationAdministration. No link back to prescriptions is present here as the medication are being given right at the bedside in the ICU. So pre 2015 patients would have no MedicationRequest or MedicationDispense "
   ]
  },
  {
   "cell_type": "code",
   "execution_count": null,
   "id": "93639840",
   "metadata": {
    "ExecuteTime": {
     "end_time": "2022-02-18T16:30:45.583400Z",
     "start_time": "2022-02-18T16:30:45.578530Z"
    }
   },
   "outputs": [],
   "source": [
    "# Medication details\n",
    "subject_id = 10008100\n",
    "patient_uuid = str(uuid5(ns_patient, str(subject_id)))"
   ]
  },
  {
   "cell_type": "code",
   "execution_count": null,
   "id": "1ead8fd0",
   "metadata": {
    "ExecuteTime": {
     "end_time": "2022-02-18T16:30:46.473832Z",
     "start_time": "2022-02-18T16:30:46.448669Z"
    }
   },
   "outputs": [],
   "source": [
    "# Get medadmin_icu associated\n",
    "q_medadmin_icu = f\"\"\" \n",
    "    SELECT * \n",
    "    FROM mimic_fhir.medication_administration_icu\n",
    "    WHERE patient_id = '{patient_uuid}' \n",
    "\"\"\"\n",
    "medadmin_icu = pd.read_sql_query(q_medadmin_icu, db_conn)\n",
    "\n",
    "med_ids = [fhir['medicationReference']['reference'].split('/')[1] for fhir in medadmin_icu.fhir]\n",
    "\n",
    "# Get medication associated with the medadmin events\n",
    "q_med_icu= f\"\"\" \n",
    "    SELECT * \n",
    "    FROM mimic_fhir.medication\n",
    "    WHERE id IN {tuple(med_ids)} \n",
    "\"\"\"\n",
    "med_icu = pd.read_sql_query(q_med_icu, db_conn)\n",
    "med_lookup = {fhir['id']: fhir['code']['coding'][0]['code'] for fhir in med_icu.fhir}"
   ]
  },
  {
   "cell_type": "markdown",
   "id": "23046cab",
   "metadata": {},
   "source": [
    "Let's look at all the fluids that are given during the patients stay"
   ]
  },
  {
   "cell_type": "code",
   "execution_count": null,
   "id": "d29211ca",
   "metadata": {
    "ExecuteTime": {
     "end_time": "2022-02-18T16:31:06.891788Z",
     "start_time": "2022-02-18T16:31:06.844488Z"
    }
   },
   "outputs": [],
   "source": [
    "medadmin_icu"
   ]
  },
  {
   "cell_type": "code",
   "execution_count": null,
   "id": "fcd7afbd",
   "metadata": {
    "ExecuteTime": {
     "end_time": "2022-02-18T16:22:37.450363Z",
     "start_time": "2022-02-18T16:22:37.444601Z"
    }
   },
   "outputs": [],
   "source": [
    "fluids = [fhir for fhir in medadmin_icu.fhir if fhir['dosage']['rateQuantity']['unit'] == 'mL/hour']"
   ]
  },
  {
   "cell_type": "code",
   "execution_count": null,
   "id": "428e0157",
   "metadata": {
    "ExecuteTime": {
     "end_time": "2022-02-18T16:32:35.299389Z",
     "start_time": "2022-02-18T16:32:35.286195Z"
    }
   },
   "outputs": [],
   "source": [
    "medadmin_icu.fhir[3]"
   ]
  },
  {
   "cell_type": "code",
   "execution_count": null,
   "id": "61c19caa",
   "metadata": {
    "ExecuteTime": {
     "end_time": "2022-02-18T16:35:12.282915Z",
     "start_time": "2022-02-18T16:35:12.268705Z"
    }
   },
   "outputs": [],
   "source": [
    "fluids = [fhir for fhir in medadmin_icu.fhir \n",
    "          if 'rateQuantity' in fhir['dosage'] and fhir['dosage']['dose']['unit'] == 'ml']\n",
    "fluids"
   ]
  },
  {
   "cell_type": "code",
   "execution_count": null,
   "id": "c8e63816",
   "metadata": {
    "ExecuteTime": {
     "end_time": "2022-02-18T16:48:27.929037Z",
     "start_time": "2022-02-18T16:48:27.797970Z"
    }
   },
   "outputs": [],
   "source": [
    "# Get fluids with rates\n",
    "#fluids = [fhir for fhir in medadmin_icu.fhir \n",
    "#          if 'rateQuantity' in fhir['dosage'] and fhir['dosage']['rateQuantity']['unit'] == 'ml']\n",
    "\n",
    "# Get fluids with dose\n",
    "fluids = [fhir for fhir in medadmin_icu.fhir if fhir['dosage']['dose']['unit'] == 'ml']\n",
    "\n",
    "\n",
    "# Set colours for fluids\n",
    "colors = {\n",
    "    'LR': '#1b9e77',\n",
    "    'PO Intake': '#9375d1',\n",
    "    'OR Crystalloid Intake': '#d95f02',\n",
    "    'Solution': '#325aa8'\n",
    "    \n",
    "}\n",
    "\n",
    "\n",
    "plt.figure(figsize=[12, 12])\n",
    "for fluid in fluids:\n",
    "  label = med_lookup[fluid['medicationReference']['reference'].split('/')[1]]\n",
    "  color = colors[label]\n",
    "  if 'effectivePeriod' in fluid: #and label == 'Solution':\n",
    "      x_start = datetime.datetime.strptime(fluid['effectivePeriod']['start'][0:19], '%Y-%m-%dT%H:%M:%S')\n",
    "      x_end = datetime.datetime.strptime(fluid['effectivePeriod']['end'][0:19], '%Y-%m-%dT%H:%M:%S')\n",
    "      x = [x_start, x_end]\n",
    "      dose = pd.to_numeric(fluid['dosage']['dose']['value'])\n",
    "      plt.plot(x, [dose, dose], 'o-', label=label, color=color, markersize=10)\n",
    "  elif 'effectiveDateTime' in fluid:\n",
    "      x_time = datetime.datetime.strptime(fluid['effectiveDateTime'][0:19], '%Y-%m-%dT%H:%M:%S')   \n",
    "      dose = pd.to_numeric(fluid['dosage']['dose']['value'])\n",
    "      plt.plot(x_time, dose, 'o', label=label, color=color, markersize=20)\n",
    "\n",
    "\n",
    "plt.xticks(rotation=45)\n",
    "plt.ylabel('Fluid Dose (mL)')\n",
    "\n",
    "# concise dates on the x-axis\n",
    "ax = plt.gca()\n",
    "locator = mdates.AutoDateLocator(minticks=3, maxticks=7)\n",
    "formatter = mdates.ConciseDateFormatter(locator)\n",
    "ax.xaxis.set_major_locator(locator)\n",
    "ax.xaxis.set_major_formatter(formatter)\n",
    "\n",
    "#plt.legend(loc='center right')\n",
    "# Combine any fluids that are the same\n",
    "handles, labels = plt.gca().get_legend_handles_labels()\n",
    "labels, ids = np.unique(labels, return_index=True)\n",
    "handles = [handles[i] for i in ids]\n",
    "plt.legend(handles, labels, loc='center right')\n",
    "\n",
    "plt.show()"
   ]
  },
  {
   "cell_type": "code",
   "execution_count": null,
   "id": "aa0cf093",
   "metadata": {
    "ExecuteTime": {
     "end_time": "2022-02-18T16:53:15.822821Z",
     "start_time": "2022-02-18T16:53:15.778553Z"
    }
   },
   "outputs": [],
   "source": [
    "# Get fluids with rates\n",
    "fluids = [fhir for fhir in medadmin_icu.fhir \n",
    "          if 'rateQuantity' in fhir['dosage'] and fhir['dosage']['rateQuantity']['unit'] == 'mL/hour']\n",
    "\n",
    "\n",
    "\n",
    "# Set colours for fluids\n",
    "colors = {\n",
    "    'LR': '#1b9e77',\n",
    "    'PO Intake': '#9375d1',\n",
    "    'OR Crystalloid Intake': '#d95f02',\n",
    "    'Solution': '#325aa8'\n",
    "    \n",
    "}\n",
    "\n",
    "\n",
    "plt.figure(figsize=[12, 12])\n",
    "for fluid in fluids:\n",
    "  label = med_lookup[fluid['medicationReference']['reference'].split('/')[1]]\n",
    "  color = colors[label]\n",
    "  if 'effectivePeriod' in fluid: #and label == 'Solution':\n",
    "      x_start = datetime.datetime.strptime(fluid['effectivePeriod']['start'][0:19], '%Y-%m-%dT%H:%M:%S')\n",
    "      x_end = datetime.datetime.strptime(fluid['effectivePeriod']['end'][0:19], '%Y-%m-%dT%H:%M:%S')\n",
    "      x = [x_start, x_end]\n",
    "      dose = pd.to_numeric(fluid['dosage']['rateQuantity']['value'])\n",
    "      plt.plot(x, [dose, dose], 'o-', label=label, color=color, markersize=10)\n",
    "  elif 'effectiveDateTime' in fluid:\n",
    "      x_time = datetime.datetime.strptime(fluid['effectiveDateTime'][0:19], '%Y-%m-%dT%H:%M:%S')   \n",
    "      dose = pd.to_numeric(fluid['dosage']['rateQuantity']['value'])\n",
    "      plt.plot(x_time, dose, 'o', label=label, color=color, markersize=20)\n",
    "\n",
    "\n",
    "plt.xticks(rotation=45)\n",
    "plt.ylabel('Fluid Dose (mL/hour)')\n",
    "\n",
    "# concise dates on the x-axis\n",
    "ax = plt.gca()\n",
    "locator = mdates.AutoDateLocator(minticks=3, maxticks=7)\n",
    "formatter = mdates.ConciseDateFormatter(locator)\n",
    "ax.xaxis.set_major_locator(locator)\n",
    "ax.xaxis.set_major_formatter(formatter)\n",
    "\n",
    "#plt.legend(loc='center right')\n",
    "# Combine any fluids that are the same\n",
    "handles, labels = plt.gca().get_legend_handles_labels()\n",
    "labels, ids = np.unique(labels, return_index=True)\n",
    "handles = [handles[i] for i in ids]\n",
    "plt.legend(handles, labels, loc='center right')\n",
    "\n",
    "plt.show()"
   ]
  },
  {
   "cell_type": "code",
   "execution_count": null,
   "id": "480ba772",
   "metadata": {},
   "outputs": [],
   "source": []
  },
  {
   "cell_type": "markdown",
   "id": "dde37e9a-ee15-4670-9572-ab54ade31136",
   "metadata": {},
   "source": [
    "# <u> Medication identifier work </u>\n",
    "Look into medication tables in MIMIC: `emar`, `emar_detail`, `input_events`, `prescriptions`, and `pharmacy`"
   ]
  },
  {
   "cell_type": "code",
   "execution_count": null,
   "id": "5dab60e8",
   "metadata": {},
   "outputs": [],
   "source": []
  },
  {
   "cell_type": "markdown",
   "id": "d8857e49-3b9c-4334-8835-c91d7804cab7",
   "metadata": {},
   "source": [
    "### 1. Medication Identifier\n",
    "In FHIR, medication is stored as a resource that can be referenced by other medication actions (Request, Dispense, Administration). A common identifier is needed then from MIMIC that can relate across `emar`, `emar_detail`, `input_events`, `prescriptions`, and `pharmacy`.\n",
    "\n",
    "Potential identifiers\n",
    "- GSN: generic sequence number for medication, found in `prescriptions`\n",
    "- NDC: national drug code for medication, found in `prescriptions`\n",
    "- product_code/product_description: medication details found in `emar_detail`\n",
    "- drug name: The straight drug name, found in all tables\n",
    "\n",
    "The final medication identifier could be a single one of the mentioned identifiers but could also be a combination depending on table linking limitations."
   ]
  },
  {
   "cell_type": "markdown",
   "id": "5a0dbe45-54ed-4bfb-82b3-be669a8cd558",
   "metadata": {},
   "source": [
    "### 1.1 Medication Identifier - GSN\n",
    "GSN is found in `prescriptions`. A typical GSN is a six digit number."
   ]
  },
  {
   "cell_type": "code",
   "execution_count": null,
   "id": "307e1edd-96f9-44b3-9a95-8429b9a15347",
   "metadata": {
    "ExecuteTime": {
     "end_time": "2022-02-09T15:37:48.931938Z",
     "start_time": "2022-02-09T15:37:47.842614Z"
    }
   },
   "outputs": [],
   "source": [
    "q_gsn = \"\"\" SELECT length(gsn), count(pharmacy_id) FROM mimiciv_hosp.prescriptions \n",
    "            GROUP BY length(gsn) \"\"\"\n",
    "gsn = pd.read_sql_query(q_gsn, db_conn)"
   ]
  },
  {
   "cell_type": "code",
   "execution_count": null,
   "id": "a4c17580",
   "metadata": {
    "ExecuteTime": {
     "end_time": "2022-02-09T15:37:59.618308Z",
     "start_time": "2022-02-09T15:37:59.590708Z"
    }
   },
   "outputs": [],
   "source": [
    "# From gsn these should all be 6 digit numerics. The number of NA and varying \n",
    "# sizes is concerning for use as an identifier. GSN can have multiple gsn it appears separated by commas\n",
    "gsn"
   ]
  },
  {
   "cell_type": "code",
   "execution_count": null,
   "id": "60a7f6db-7785-46fd-b9a2-a1feac761035",
   "metadata": {
    "ExecuteTime": {
     "end_time": "2022-02-09T15:38:08.967367Z",
     "start_time": "2022-02-09T15:38:08.827177Z"
    }
   },
   "outputs": [],
   "source": [
    "# Plot of all gsn lengths, the length of 6 is clearly the majority\n",
    "plt.bar(gsn['length'], gsn['count'], width=6)"
   ]
  },
  {
   "cell_type": "code",
   "execution_count": null,
   "id": "4626df80-b122-445d-9cdc-37038ab30c30",
   "metadata": {
    "ExecuteTime": {
     "end_time": "2022-02-09T15:38:09.951857Z",
     "start_time": "2022-02-09T15:38:09.782681Z"
    }
   },
   "outputs": [],
   "source": [
    "# Excluding the 6 digit GSNs (the majority), we can see empty gsn are found\n",
    "# Not seen in the graph also are the ~2 million NA values for GSN\n",
    "plt.bar(gsn['length'].drop(1, axis=0), gsn['count'].drop(1, axis=0), width =6)"
   ]
  },
  {
   "cell_type": "markdown",
   "id": "e613cbbf",
   "metadata": {},
   "source": [
    "**Conclusion**: GSN has too much variance and missing data to be used as the medication identifier"
   ]
  },
  {
   "cell_type": "markdown",
   "id": "2e66bde1",
   "metadata": {},
   "source": [
    "### 1.2 Medication Identifier - NDC\n",
    "The NDC is found in `prescriptions` and should be a 11 digit numeric identifier"
   ]
  },
  {
   "cell_type": "code",
   "execution_count": null,
   "id": "440b23ae",
   "metadata": {
    "ExecuteTime": {
     "end_time": "2022-02-09T15:53:05.402705Z",
     "start_time": "2022-02-09T15:53:04.203543Z"
    }
   },
   "outputs": [],
   "source": [
    "q_ndc = \"\"\" SELECT length(ndc), count(pharmacy_id) FROM mimiciv_hosp.prescriptions \n",
    "            GROUP BY length(ndc) \"\"\"\n",
    "ndc = pd.read_sql_query(q_ndc, db_conn)\n",
    "ndc"
   ]
  },
  {
   "cell_type": "markdown",
   "id": "fe4de97c",
   "metadata": {},
   "source": [
    "NDC values with length zero are primarly just zero values, so missing data. NDC unfortunately is missing ~2 million medication codes\n",
    "\n",
    "**Conclusion**: NDC is missing too may values to be the medication identifier, but is a good target for medication codes in future concept mapping"
   ]
  },
  {
   "cell_type": "markdown",
   "id": "1489f355",
   "metadata": {},
   "source": [
    "### 1.3 Medication Identifier - Product Code\n",
    "The product code is found in `emar_detail`. The one limitate of the product code is that there is no linkage to the ICU tables. Could potentially link back using just the drug name"
   ]
  },
  {
   "cell_type": "code",
   "execution_count": null,
   "id": "5eb4b49c",
   "metadata": {
    "ExecuteTime": {
     "end_time": "2022-02-09T16:09:31.850101Z",
     "start_time": "2022-02-09T16:09:25.880131Z"
    }
   },
   "outputs": [],
   "source": [
    "q_product_code = \"\"\" \n",
    "    SELECT \n",
    "        SUM(CASE WHEN product_code IS NULL THEN 1 ELSE 0 END) AS null_count\n",
    "        , SUM(CASE WHEN product_code IS NOT NULL THEN 1 ELSE 0 END) AS valid_count\n",
    "    FROM mimiciv_hosp.emar_detail\n",
    "\"\"\"\n",
    "product_code = pd.read_sql_query(q_product_code, db_conn)\n",
    "product_code"
   ]
  },
  {
   "cell_type": "markdown",
   "id": "441f96d4",
   "metadata": {},
   "source": [
    "**Conclusion**: Again way too many null values(~29 million) for this to be the sole identifier for medication"
   ]
  },
  {
   "cell_type": "markdown",
   "id": "3010e91a",
   "metadata": {},
   "source": [
    "### 1.4 Medication Identifier - Drug Name\n",
    "The drug name is common across all the medication tables in MIMIC. The main limitation is that product specific information would be missing if the drug name is used alone."
   ]
  },
  {
   "cell_type": "code",
   "execution_count": null,
   "id": "dcdd3f76",
   "metadata": {
    "ExecuteTime": {
     "end_time": "2022-02-09T16:47:21.124984Z",
     "start_time": "2022-02-09T16:47:12.437297Z"
    }
   },
   "outputs": [],
   "source": [
    "# Medication from prescriptions (10,255 distinct values)\n",
    "q_pr_meds = \"SELECT drug as medication FROM mimiciv_hosp.prescriptions\"\n",
    "pr_meds = pd.read_sql_query(q_pr_meds, db_conn)\n",
    "pr_meds.medication.unique().size"
   ]
  },
  {
   "cell_type": "code",
   "execution_count": null,
   "id": "3935569e",
   "metadata": {
    "ExecuteTime": {
     "end_time": "2022-02-09T16:47:30.500652Z",
     "start_time": "2022-02-09T16:47:22.906549Z"
    }
   },
   "outputs": [],
   "source": [
    "# Medication from pharmacy (10,229 distinct values)\n",
    "q_ph_meds = \"SELECT medication FROM mimiciv_hosp.pharmacy\"\n",
    "ph_meds = pd.read_sql_query(q_ph_meds, db_conn)\n",
    "ph_meds.medication.unique().size"
   ]
  },
  {
   "cell_type": "code",
   "execution_count": null,
   "id": "a752bd0a",
   "metadata": {
    "ExecuteTime": {
     "end_time": "2022-02-09T16:47:46.350692Z",
     "start_time": "2022-02-09T16:47:31.918823Z"
    }
   },
   "outputs": [],
   "source": [
    "# Medication from emar (4,293 distinct values)\n",
    "q_em_meds = \"SELECT medication FROM mimiciv_hosp.emar\"\n",
    "em_meds = pd.read_sql_query(q_em_meds, db_conn)\n",
    "em_meds.medication.unique().size"
   ]
  },
  {
   "cell_type": "code",
   "execution_count": null,
   "id": "226627b3",
   "metadata": {
    "ExecuteTime": {
     "end_time": "2022-02-09T16:47:47.809712Z",
     "start_time": "2022-02-09T16:47:47.791282Z"
    }
   },
   "outputs": [],
   "source": [
    "# Medication from inputevents/d_items (470 distinct values)\n",
    "q_ie_meds = \"\"\"\n",
    "    SELECT di.label as medication\n",
    "    FROM mimiciv_icu.d_items di\n",
    "    WHERE di.linksto = 'inputevents'\n",
    "\"\"\"\n",
    "ie_meds = pd.read_sql_query(q_ie_meds, db_conn)\n",
    "ie_meds.medication.unique().size"
   ]
  },
  {
   "cell_type": "code",
   "execution_count": null,
   "id": "5b7d92b2",
   "metadata": {
    "ExecuteTime": {
     "end_time": "2022-02-09T16:48:33.319028Z",
     "start_time": "2022-02-09T16:48:31.694344Z"
    }
   },
   "outputs": [],
   "source": [
    "# Check for NA values \n",
    "data = {'Tables' : ['prescriptions', 'pharmacy', 'emar', 'inputevents'],\n",
    "        'NA Count' : [pr_meds.isna().sum().medication, \n",
    "                      ph_meds.isna().sum().medication, \n",
    "                      em_meds.isna().sum().medication, \n",
    "                      ie_meds.isna().sum().medication]}\n",
    "print(pd.DataFrame(data))"
   ]
  },
  {
   "cell_type": "markdown",
   "id": "adc36e2b",
   "metadata": {},
   "source": [
    "So pharmacy and emar both have some NA values, lets investigate the scale and reason behind that\n",
    "Primary reason is likely IV meds"
   ]
  },
  {
   "cell_type": "code",
   "execution_count": null,
   "id": "bbfd4dab",
   "metadata": {
    "ExecuteTime": {
     "end_time": "2022-02-09T18:25:43.137167Z",
     "start_time": "2022-02-09T18:25:25.599490Z"
    }
   },
   "outputs": [],
   "source": [
    "q_emar = \"\"\"\n",
    "    SELECT \n",
    "        em.medication\n",
    "        , em.pharmacy_id as em_pharmacy_id\n",
    "        , ed.pharmacy_id as ed_pharmacy_id\n",
    "        --, ed.parent_field_ordinal\n",
    "        , ed.product_code\n",
    "    FROM \n",
    "        mimiciv_hosp.emar em\n",
    "        LEFT JOIN mimiciv_hosp.emar_detail ed \n",
    "            ON em.emar_id = ed.emar_id \n",
    "    WHERE\n",
    "        em.medication IS NULL\n",
    "        AND ed.parent_field_ordinal IS NOT NULL\n",
    "\"\"\"\n",
    "emar = pd.read_sql_query(q_emar, db_conn)\n",
    "# values still have pharmacy_ids which link back to actual values (mimic update to fill these values?)"
   ]
  },
  {
   "cell_type": "code",
   "execution_count": null,
   "id": "1d36aa0a",
   "metadata": {
    "ExecuteTime": {
     "end_time": "2022-02-09T18:25:44.924910Z",
     "start_time": "2022-02-09T18:25:44.907364Z"
    }
   },
   "outputs": [],
   "source": [
    "print(f'Null medication in emar size: {emar.size}')\n",
    "emar"
   ]
  },
  {
   "cell_type": "code",
   "execution_count": null,
   "id": "72aaeab8",
   "metadata": {
    "ExecuteTime": {
     "end_time": "2022-02-09T18:28:34.003460Z",
     "start_time": "2022-02-09T18:28:33.878211Z"
    }
   },
   "outputs": [],
   "source": [
    "# Most of the remaining values have a pharmacy_id or product code to link to, \n",
    "# but there is still a subset missing that too!\n",
    "\n",
    "emar.loc[(emar.medication.isnull()) \n",
    "         & (emar.em_pharmacy_id.isnull()) \n",
    "         & (emar.ed_pharmacy_id.isnull()) \n",
    "         & (emar.product_code.isnull()) \n",
    "        ].info()\n",
    "\n",
    "# These emar have no information for FHIR, so we will need to filter \n",
    "# out the ~50,000 emar events with no related medication, potentially IV but no link to it (maybe poe)"
   ]
  },
  {
   "cell_type": "code",
   "execution_count": null,
   "id": "97f5d1f5",
   "metadata": {
    "ExecuteTime": {
     "end_time": "2022-02-09T18:45:29.084079Z",
     "start_time": "2022-02-09T18:45:17.648589Z"
    }
   },
   "outputs": [],
   "source": [
    "# Check pharmacy table null values\n",
    "q_pharma = \"\"\"\n",
    "    SELECT *\n",
    "    FROM \n",
    "        mimiciv_hosp.pharmacy ph\n",
    "    WHERE\n",
    "        ph.medication IS NULL\n",
    "\"\"\"\n",
    "pharma = pd.read_sql_query(q_pharma, db_conn)\n",
    "pharma.info()"
   ]
  },
  {
   "cell_type": "code",
   "execution_count": null,
   "id": "d5906083",
   "metadata": {
    "ExecuteTime": {
     "end_time": "2022-02-09T18:45:35.556128Z",
     "start_time": "2022-02-09T18:45:34.782183Z"
    }
   },
   "outputs": [],
   "source": []
  },
  {
   "cell_type": "markdown",
   "id": "3d5268fd",
   "metadata": {},
   "source": [
    "The `proc_type` is indicative what kind of medication is being delivered. Since the `proc_type` is non-null for all values where medication is null we can glean the medication intent."
   ]
  },
  {
   "cell_type": "code",
   "execution_count": null,
   "id": "a2605597",
   "metadata": {
    "ExecuteTime": {
     "end_time": "2022-02-09T18:48:56.443887Z",
     "start_time": "2022-02-09T18:48:56.246093Z"
    }
   },
   "outputs": [],
   "source": [
    "pharma.proc_type.unique()"
   ]
  },
  {
   "cell_type": "code",
   "execution_count": null,
   "id": "ddb548aa",
   "metadata": {
    "ExecuteTime": {
     "end_time": "2022-02-09T18:54:32.036274Z",
     "start_time": "2022-02-09T18:54:31.800458Z"
    }
   },
   "outputs": [],
   "source": [
    "pharma.groupby(['proc_type']).size()"
   ]
  },
  {
   "cell_type": "markdown",
   "id": "9e725476",
   "metadata": {},
   "source": [
    "The primary offender is IV/TPN, so we can decide if these just get mapped to one thing. The few irrigation/unit dose cases could probably just be omitted."
   ]
  },
  {
   "cell_type": "markdown",
   "id": "159d5329",
   "metadata": {},
   "source": [
    "### 1.5 Medication Identifier - Decisions\n",
    "From the options the best option initially will be to use medication names. Limitations with using names:\n",
    "- There are ~55,000 emar events without an explicit medication name or pharmacy link. Likely IV meds\n",
    "- There are ~1 million pharmacy entries without an explicit medication name. Primarily IV procedures, so again could be grouped into IV meds\n",
    "- The `prescriptions` table can have multiple drugs under the same pharmacy_id, so they will need to be grouped\n",
    "  - Proposal for now is to use the format MAIN_BASE_ADDITIVE based on drug_type to concatenate values \n",
    "  - Other option is to concatenate them alphabetically"
   ]
  },
  {
   "cell_type": "markdown",
   "id": "82c85e9a",
   "metadata": {},
   "source": [
    "## 2. Medication Examples\n",
    "Look into specific cases for medication\n",
    "- Pills - ranitidine/acetominophin\n",
    "- Infusion - heparin/noepinephrine\n",
    "- Antibiotic - vancamycin\n",
    "- Saline - IV entries\n",
    "\n",
    "Grab the medication administrations from one patient, who took them all throughout a hopsital stay"
   ]
  },
  {
   "cell_type": "code",
   "execution_count": null,
   "id": "240d6a81",
   "metadata": {
    "ExecuteTime": {
     "end_time": "2022-02-09T20:22:46.717774Z",
     "start_time": "2022-02-09T20:22:39.281408Z"
    }
   },
   "outputs": [],
   "source": [
    "subject_id = 10012853\n",
    "q_med_ex = f\"\"\"\n",
    "    SELECT \n",
    "        em.*\n",
    "        , ed.emar_seq\n",
    "        , ed.parent_field_ordinal\n",
    "        , ed.administration_type\n",
    "        , ed.barcode_type\n",
    "        , ed.dose_due\n",
    "        , ed.dose_due_unit\n",
    "        , ed.dose_given\n",
    "        , ed.dose_given_unit\n",
    "        , ed.product_amount_given\n",
    "        , ed.product_unit\n",
    "        , ed.product_description\n",
    "        , ed.product_code\n",
    "        , ed.infusion_rate\n",
    "        , ed.infusion_rate_unit\n",
    "        , ed.route\n",
    "    FROM \n",
    "        mimiciv_hosp.emar em\n",
    "        LEFT JOIN mimiciv_hosp.emar_detail ed\n",
    "            ON em.emar_id = ed.emar_id    \n",
    "    WHERE em.subject_id = {subject_id}\n",
    "\"\"\"\n",
    "med_ex = pd.read_sql_query(q_med_ex, db_conn)\n"
   ]
  },
  {
   "cell_type": "markdown",
   "id": "02e38ca6",
   "metadata": {},
   "source": [
    "And you can see the different medications and the count of taking them"
   ]
  },
  {
   "cell_type": "code",
   "execution_count": null,
   "id": "d62f6255",
   "metadata": {
    "ExecuteTime": {
     "end_time": "2022-02-09T20:16:00.538251Z",
     "start_time": "2022-02-09T20:16:00.532519Z"
    }
   },
   "outputs": [],
   "source": [
    "med_ex.groupby(['medication']).size()"
   ]
  },
  {
   "cell_type": "markdown",
   "id": "f85b56e5",
   "metadata": {},
   "source": [
    "### 2.1 Medication Examples - Pills"
   ]
  },
  {
   "cell_type": "code",
   "execution_count": null,
   "id": "51f5d377",
   "metadata": {},
   "outputs": [],
   "source": [
    "pill = 'Acetaminophen' # Aspirin"
   ]
  },
  {
   "cell_type": "code",
   "execution_count": null,
   "id": "1dffd944",
   "metadata": {
    "ExecuteTime": {
     "end_time": "2022-02-09T21:00:43.439047Z",
     "start_time": "2022-02-09T21:00:43.429299Z"
    }
   },
   "outputs": [],
   "source": [
    "idx = med_ex['parent_field_ordinal'].notnull()"
   ]
  },
  {
   "cell_type": "code",
   "execution_count": null,
   "id": "8336958b",
   "metadata": {
    "ExecuteTime": {
     "end_time": "2022-02-09T21:01:42.541744Z",
     "start_time": "2022-02-09T21:01:42.530296Z"
    }
   },
   "outputs": [],
   "source": [
    "emar = med_ex.loc[idx, :].copy()"
   ]
  },
  {
   "cell_type": "code",
   "execution_count": null,
   "id": "4fbc1f03",
   "metadata": {
    "ExecuteTime": {
     "end_time": "2022-02-09T21:05:09.484401Z",
     "start_time": "2022-02-09T21:05:09.473730Z"
    }
   },
   "outputs": [],
   "source": [
    "pills = emar[(emar.medication == pill)]"
   ]
  },
  {
   "cell_type": "code",
   "execution_count": null,
   "id": "3b184f0c",
   "metadata": {
    "ExecuteTime": {
     "end_time": "2022-02-09T21:07:00.796820Z",
     "start_time": "2022-02-09T21:07:00.778196Z"
    }
   },
   "outputs": [],
   "source": [
    "# The typical product_unit for something like Acetaminophen is a tablet (TAB)\n",
    "pills.product_unit\n",
    "\n",
    "cols = ['subject_id', 'emar_id', 'pharmacy_id', 'charttime', 'medication',\n",
    "       'administration_type', 'dose_given', 'dose_given_unit', 'product_unit']\n",
    "\n",
    "pills[cols]"
   ]
  },
  {
   "cell_type": "markdown",
   "id": "67dc4ce7",
   "metadata": {},
   "source": [
    "### 2.2 Medication Examples - Infusion\n",
    "Look into heparin in emar and inputevents"
   ]
  },
  {
   "cell_type": "markdown",
   "id": "f14fe325",
   "metadata": {},
   "source": [
    "### 2.2.1 - Infusion emar"
   ]
  },
  {
   "cell_type": "code",
   "execution_count": null,
   "id": "a7e225f9",
   "metadata": {
    "ExecuteTime": {
     "end_time": "2022-02-09T21:08:28.324462Z",
     "start_time": "2022-02-09T21:08:28.321849Z"
    }
   },
   "outputs": [],
   "source": [
    "infusion = 'Heparin'"
   ]
  },
  {
   "cell_type": "code",
   "execution_count": null,
   "id": "d1c9c7dd",
   "metadata": {
    "ExecuteTime": {
     "end_time": "2022-02-09T21:20:14.465801Z",
     "start_time": "2022-02-09T21:20:14.451612Z"
    }
   },
   "outputs": [],
   "source": [
    "infusions = med_ex[(med_ex.medication == infusion)]"
   ]
  },
  {
   "cell_type": "code",
   "execution_count": null,
   "id": "81fa4ade",
   "metadata": {
    "ExecuteTime": {
     "end_time": "2022-02-09T21:20:27.945404Z",
     "start_time": "2022-02-09T21:20:27.923190Z"
    }
   },
   "outputs": [],
   "source": [
    "cols = ['subject_id', 'emar_id', 'pharmacy_id', 'charttime', 'medication',\n",
    "       'administration_type', 'dose_given', 'dose_given_unit', 'product_unit',\n",
    "       'infusion_rate', 'infusion_rate_unit']\n",
    "\n",
    "infusions[cols].head(n=10)"
   ]
  },
  {
   "cell_type": "code",
   "execution_count": null,
   "id": "ec1feaf9",
   "metadata": {},
   "outputs": [],
   "source": []
  },
  {
   "cell_type": "code",
   "execution_count": null,
   "id": "09038ca7",
   "metadata": {
    "ExecuteTime": {
     "end_time": "2022-02-09T21:14:43.457189Z",
     "start_time": "2022-02-09T21:14:43.434167Z"
    }
   },
   "outputs": [],
   "source": [
    "infusions.groupby(['medication']).size()"
   ]
  },
  {
   "cell_type": "code",
   "execution_count": null,
   "id": "f4325d47",
   "metadata": {
    "ExecuteTime": {
     "end_time": "2022-02-09T20:05:49.970077Z",
     "start_time": "2022-02-09T20:05:48.163087Z"
    }
   },
   "outputs": [],
   "source": [
    "q_heparin = \"\"\"\n",
    "    SELECT * \n",
    "    FROM \n",
    "        mimiciv_hosp.emar em\n",
    "        LEFT JOIN mimiciv_hosp.emar_detail ed\n",
    "            ON em.emar_id = ed.emar_id   \n",
    "    WHERE medication = 'Heparin'\n",
    "    LIMIT 1000\n",
    "\"\"\"\n",
    "heparin = pd.read_sql_query(q_heparin, db_conn)"
   ]
  },
  {
   "cell_type": "code",
   "execution_count": null,
   "id": "559732ee",
   "metadata": {
    "ExecuteTime": {
     "end_time": "2022-02-09T20:06:09.692190Z",
     "start_time": "2022-02-09T20:06:09.676705Z"
    }
   },
   "outputs": [],
   "source": [
    "heparin.info()"
   ]
  },
  {
   "cell_type": "code",
   "execution_count": null,
   "id": "366c4e58",
   "metadata": {
    "ExecuteTime": {
     "end_time": "2022-02-09T19:25:37.947851Z",
     "start_time": "2022-02-09T19:25:37.921228Z"
    }
   },
   "outputs": [],
   "source": [
    "heparin[0:10]"
   ]
  },
  {
   "cell_type": "markdown",
   "id": "c4340aec",
   "metadata": {},
   "source": [
    "- Heparin is delivered with infusion, but the "
   ]
  },
  {
   "cell_type": "markdown",
   "id": "c096d780",
   "metadata": {},
   "source": [
    "### 2.2.2 infusion inputevents"
   ]
  },
  {
   "cell_type": "code",
   "execution_count": null,
   "id": "dea78f66",
   "metadata": {},
   "outputs": [],
   "source": []
  },
  {
   "cell_type": "code",
   "execution_count": null,
   "id": "00876fa6",
   "metadata": {},
   "outputs": [],
   "source": []
  }
 ],
 "metadata": {
  "kernelspec": {
   "display_name": "Python 3 (ipykernel)",
   "language": "python",
   "name": "python3"
  },
  "language_info": {
   "codemirror_mode": {
    "name": "ipython",
    "version": 3
   },
   "file_extension": ".py",
   "mimetype": "text/x-python",
   "name": "python",
   "nbconvert_exporter": "python",
   "pygments_lexer": "ipython3",
   "version": "3.9.7"
  }
 },
 "nbformat": 4,
 "nbformat_minor": 5
}
