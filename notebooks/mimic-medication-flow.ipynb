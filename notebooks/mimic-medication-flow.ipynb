{
 "cells": [
  {
   "cell_type": "markdown",
   "metadata": {},
   "source": [
    "# MIMIC Medication Flow\n",
    "This notebook looks to answer questions on the consistency and flow of medication throughout the medication tables. The tables to be explored are:\n",
    "- *prescriptions*\n",
    "- *pharmacy*\n",
    "- *emar*\n",
    "- *emar_detail*\n",
    "\n",
    "The statistics calculated throughout the notebook will be based on the following criteria:\n",
    "- anchor_year_group = 2017-2019\n",
    "- at least on emar event present in *emar*\n",
    "\n",
    "The primary questions to answer are:\n",
    "- How many emar events have matching pharmacy_id with *pharmacy*\n",
    "- How many emar events have matching pharmacy_id with *prescriptions*\n",
    "- How many *prescriptions* pharmacy_id match with *pharmacy* pharmacy_id\n",
    "- For matching pharmacy_id, do the medication labels stay consistent from *prescriptions* to *pharmacy* to *emar*\n"
   ]
  },
  {
   "cell_type": "code",
   "execution_count": null,
   "metadata": {},
   "outputs": [],
   "source": [
    "# Imports\n",
    "import sys\n",
    "import pandas as pd\n",
    "import numpy as np\n",
    "import psycopg2\n",
    "from pathlib import Path\n",
    "import json\n",
    "from uuid import uuid5, NAMESPACE_OID\n",
    "import datetime\n",
    "from dotenv import load_dotenv"
   ]
  },
  {
   "cell_type": "code",
   "execution_count": null,
   "metadata": {},
   "outputs": [],
   "source": [
    "# Load environment variables\n",
    "load_dotenv(load_dotenv(Path(Path.cwd()).parents[0] / '.env'))\n",
    "\n",
    "SQLUSER = os.getenv('SQLUSER')\n",
    "SQLPASS = os.getenv('SQLPASS')\n",
    "DBNAME_MIMIC = os.getenv('DBNAME_MIMIC')\n",
    "HOST = os.getenv('DBHOST')\n",
    "\n",
    "db_conn = psycopg2.connect(dbname=DBNAME_MIMIC, user=SQLUSER, password=SQLPASS, host=HOST)"
   ]
  },
  {
   "cell_type": "markdown",
   "metadata": {},
   "source": [
    "## Medication Cohort Stats"
   ]
  },
  {
   "cell_type": "code",
   "execution_count": null,
   "metadata": {},
   "outputs": [],
   "source": [
    "q_med_cohort = \"\"\"\n",
    "    SELECT * FROM mimic_core.patients p\n",
    "    WHERE anchor_year_group = '2017 - 2019'\n",
    "\"\"\"\n",
    "med_cohort = pd.read_sql_query(q_med_cohort, db_conn)"
   ]
  },
  {
   "cell_type": "code",
   "execution_count": null,
   "metadata": {},
   "outputs": [],
   "source": [
    "q_emar_patients = \"\"\"\n",
    "    SELECT DISTINCT em.subject_id\n",
    "    FROM \n",
    "        mimic_core.patients p \n",
    "        LEFT JOIN mimiciv_hosp.emar em\n",
    "            ON p.subject_id = em.subject_id\n",
    "    WHERE anchor_year_group = '2017 - 2019'\n",
    "\"\"\"\n",
    "emar_patients = pd.read_sql_query(q_emar_patients, db_conn)"
   ]
  },
  {
   "cell_type": "code",
   "execution_count": null,
   "metadata": {},
   "outputs": [],
   "source": [
    "print(f'2017-2019 anchor group has {len(med_cohort):,} patients, but only {len(emar_patients):,} patients have emar records.')\n",
    "print(f'Thus, of the cohort, {len(emar_patients)/len(med_cohort):.0%} of patients have an emar event')"
   ]
  },
  {
   "cell_type": "markdown",
   "metadata": {},
   "source": [
    "## Emar connections\n",
    "- How many emar events have matching pharmacy_id with *pharmacy*\n",
    "- How many emar events have matching pharmacy_id with *prescriptions*"
   ]
  },
  {
   "cell_type": "code",
   "execution_count": null,
   "metadata": {},
   "outputs": [],
   "source": [
    "q_emar_events = \"\"\"\n",
    "    SELECT em.subject_id, em.hadm_id, em.pharmacy_id, em.medication\n",
    "    FROM \n",
    "        mimiciv_hosp.emar em\n",
    "        INNER JOIN mimic_core.patients p \n",
    "            ON em.subject_id = p.subject_id\n",
    "    WHERE anchor_year_group = '2017 - 2019'\n",
    "\"\"\"\n",
    "emar_events = pd.read_sql_query(q_emar_events, db_conn)"
   ]
  },
  {
   "cell_type": "code",
   "execution_count": null,
   "metadata": {},
   "outputs": [],
   "source": [
    "pharmacy_id_missing = emar_events.pharmacy_id.isna().sum()\n",
    "total_emar_events = len(emar_events)\n",
    "percent_pharmacy_missing = pharmacy_id_missing/total_emar_events\n",
    "distinct_emar_phid = len(emar_events.pharmacy_id.unique())\n",
    "print(f'Of the {total_emar_events:,} emar events, {percent_pharmacy_missing:.0%} have a null pharmacy_id.')\n",
    "print(f'For all the emar events there are {distinct_emar_phid:,} distinct pharmacy_id')"
   ]
  },
  {
   "cell_type": "code",
   "execution_count": null,
   "metadata": {},
   "outputs": [],
   "source": [
    "q_pharmacy = \"\"\"\n",
    "    SELECT ph.subject_id, ph.hadm_id, ph.pharmacy_id, ph.medication\n",
    "    FROM \n",
    "        mimiciv_hosp.pharmacy ph\n",
    "        INNER JOIN mimic_core.patients pat \n",
    "            ON ph.subject_id = pat.subject_id\n",
    "    WHERE anchor_year_group = '2017 - 2019'\n",
    "\"\"\"\n",
    "df_pharmacy = pd.read_sql_query(q_pharmacy, db_conn)"
   ]
  },
  {
   "cell_type": "code",
   "execution_count": null,
   "metadata": {},
   "outputs": [],
   "source": [
    "print(f'For all the pharmacy events there are {len(df_pharmacy):,} distinct pharmacy_id')"
   ]
  },
  {
   "cell_type": "code",
   "execution_count": null,
   "metadata": {},
   "outputs": [],
   "source": [
    "q_prescriptions = \"\"\"\n",
    "    SELECT pr.subject_id, pr.hadm_id, pr.pharmacy_id, pr.drug, pr.drug_type\n",
    "    FROM \n",
    "        mimiciv_hosp.prescriptions pr\n",
    "        INNER JOIN mimic_core.patients pat \n",
    "            ON pr.subject_id = pat.subject_id\n",
    "    WHERE anchor_year_group = '2017 - 2019'\n",
    "\"\"\"\n",
    "df_prescriptions = pd.read_sql_query(q_prescriptions, db_conn)"
   ]
  },
  {
   "cell_type": "code",
   "execution_count": null,
   "metadata": {},
   "outputs": [],
   "source": [
    "distinct_prescription_pharmacy_id = len(df_prescriptions.pharmacy_id.unique())\n",
    "print(f'For all the prescriptions events there are {distinct_prescription_pharmacy_id:,} distinct pharmacy_id')"
   ]
  },
  {
   "cell_type": "code",
   "execution_count": null,
   "metadata": {},
   "outputs": [],
   "source": [
    "df_phid_emar = pd.DataFrame(emar_events.pharmacy_id.unique())\n",
    "df_phid_pharmacy = pd.DataFrame(df_pharmacy.pharmacy_id.unique())\n",
    "df_phid_prescriptions = pd.DataFrame(df_prescriptions.pharmacy_id.unique())"
   ]
  },
  {
   "cell_type": "code",
   "execution_count": null,
   "metadata": {},
   "outputs": [],
   "source": [
    "len(df_phid_emar)"
   ]
  },
  {
   "cell_type": "code",
   "execution_count": null,
   "metadata": {},
   "outputs": [],
   "source": [
    "emar_phid_in_pharmacy = len(df_phid_emar.merge(df_phid_pharmacy, how='inner'))\n",
    "emar_phid_in_prescriptions = len(df_phid_emar.merge(df_phid_prescriptions, how='inner'))\n",
    "pharmacy_phid_in_prescriptions = len(df_phid_pharmacy.merge(df_phid_prescriptions, how='inner'))\n",
    "distinct_emar_phid\n"
   ]
  },
  {
   "cell_type": "code",
   "execution_count": null,
   "metadata": {},
   "outputs": [],
   "source": [
    "print(f'Of the {distinct_emar_phid:,} distinct pharmacy_id in emar, {emar_phid_in_pharmacy:,} exist in pharmacy, and {emar_phid_in_prescriptions:,} in prescriptions')\n",
    "print(f'That works out to {emar_phid_in_pharmacy/distinct_emar_phid:.0%} in pharmacy and {emar_phid_in_prescriptions/distinct_emar_phid:.0%} in prescriptions')\n",
    "print(f'Also there are {pharmacy_phid_in_prescriptions/len(df_phid_pharmacy):.2%} prescriptions pharmacy_id that show up in pharmacy')\n",
    "print(f'Also there are {pharmacy_phid_in_prescriptions/len(df_phid_prescriptions):.2%} pharmacy pharmacy_id that show up in prescriptions')"
   ]
  },
  {
   "cell_type": "markdown",
   "metadata": {},
   "source": [
    "## Pharmacy and prescriptions medication overlap\n",
    "Check to see if the medication and drug name match for the same pharmacy_id. Prescriptions may have multiple meds but just use main for comparison"
   ]
  },
  {
   "cell_type": "code",
   "execution_count": null,
   "metadata": {},
   "outputs": [],
   "source": [
    "distinct_prescriptions = len(df_prescriptions.pharmacy_id.unique())\n",
    "medication_mix = df_prescriptions.groupby(['pharmacy_id']).filter(lambda x: len(x) > 1)\n"
   ]
  },
  {
   "cell_type": "code",
   "execution_count": null,
   "metadata": {},
   "outputs": [],
   "source": [
    "num_medication_mix = len(medication_mix)\n",
    "print(f'There are {distinct_prescriptions:,} distinct pharmacy_id in prescriptions. Of those, {num_medication_mix:,} are a combination of multiple medication in one prescription order.')"
   ]
  },
  {
   "cell_type": "code",
   "execution_count": null,
   "metadata": {},
   "outputs": [],
   "source": [
    "len(df_prescriptions)"
   ]
  },
  {
   "cell_type": "markdown",
   "metadata": {},
   "source": [
    "#### Check overlap of pharmacy_id beteween pharmacy and prescriptions"
   ]
  },
  {
   "cell_type": "code",
   "execution_count": null,
   "metadata": {},
   "outputs": [],
   "source": [
    "pharmacy_id_overlap = df_phid_pharmacy.merge(df_phid_prescriptions, how='inner')"
   ]
  },
  {
   "cell_type": "code",
   "execution_count": null,
   "metadata": {},
   "outputs": [],
   "source": [
    "print(f'Distinct pharmacy_id in pharmacy {len(df_phid_pharmacy):,}')\n",
    "print(f'Distinct pharmacy_id in prescriptions {len(df_phid_prescriptions):,}')\n",
    "print(f'Distinct pharmacy_id overlapping pharmacy and prescriptions {len(pharmacy_id_overlap):,}')"
   ]
  },
  {
   "cell_type": "markdown",
   "metadata": {},
   "source": [
    "In this medication cohort, the prescriptions pharmacy_id are fully captured in the pharmacy table. \n",
    "\n",
    "Now let's check if the medication name matches across the two tables."
   ]
  },
  {
   "cell_type": "code",
   "execution_count": null,
   "metadata": {},
   "outputs": [],
   "source": [
    "df_main_meds = df_prescriptions.loc[df_prescriptions['drug_type'] == 'MAIN']\n",
    "df_merged_meds = df_main_meds.merge(df_pharmacy, how='left', on=['subject_id', 'hadm_id', 'pharmacy_id'])\n",
    "med_compare = df_merged_meds.loc[df_merged_meds['drug'] != df_merged_meds['medication']]"
   ]
  },
  {
   "cell_type": "code",
   "execution_count": null,
   "metadata": {},
   "outputs": [],
   "source": [
    "print(f'There are {len(df_merged_meds):,} medication entries in the cohort')\n",
    "print(f'There are {len(med_compare):,} medication mismatches between pharmacy and prescriptions')\n",
    "print(f'That amounts to {len(med_compare)/len(df_merged_meds):.2%} of medication mismatching')"
   ]
  },
  {
   "cell_type": "code",
   "execution_count": null,
   "metadata": {},
   "outputs": [],
   "source": []
  },
  {
   "cell_type": "code",
   "execution_count": null,
   "metadata": {},
   "outputs": [],
   "source": [
    "# some example mismatches\n",
    "med_compare.iloc[0:50]"
   ]
  },
  {
   "cell_type": "markdown",
   "metadata": {},
   "source": [
    "From the medication comparison between pharmacy and prescriptions, the majority of mismatches appear to be more detail added in pharmacy medication. Interestingly there are empt pharmacy.medication values and some medication names set to numeric values (ie 1,2)"
   ]
  },
  {
   "cell_type": "code",
   "execution_count": null,
   "metadata": {},
   "outputs": [],
   "source": [
    "len(med_compare)"
   ]
  },
  {
   "cell_type": "code",
   "execution_count": null,
   "metadata": {},
   "outputs": [],
   "source": [
    "len(emar_events)"
   ]
  },
  {
   "cell_type": "code",
   "execution_count": null,
   "metadata": {},
   "outputs": [],
   "source": [
    "emar_events.pharmacy_id.isna().sum()"
   ]
  },
  {
   "cell_type": "code",
   "execution_count": null,
   "metadata": {},
   "outputs": [],
   "source": [
    "len(emar_events.loc[emar_events['pharmacy_id'].isna() == False])"
   ]
  },
  {
   "cell_type": "markdown",
   "metadata": {},
   "source": [
    "Check medication matching between emar and pharmacy/prescriptions"
   ]
  },
  {
   "cell_type": "code",
   "execution_count": null,
   "metadata": {},
   "outputs": [],
   "source": [
    "df_main_meds = df_prescriptions.loc[df_prescriptions['drug_type'] == 'MAIN']\n",
    "\n",
    "# grab only meds that have pharmacy_id to match against pharmacy. Rename medication to not overlap pharmacy.medication\n",
    "df_emar_meds = emar_events.loc[emar_events['pharmacy_id'].isna() == False].rename(columns={'medication': 'emar_medication'}) \n",
    "df_merged_emar_and_pharma = df_pharmacy.merge(df_emar_meds, how='inner', on=['subject_id', 'hadm_id', 'pharmacy_id']) # only grab pharmacy_id that are in both\n",
    "df_merged_emar_and_presc = df_main_meds.merge(df_emar_meds, how='inner', on=['subject_id', 'hadm_id', 'pharmacy_id']) # only grab pharmacy id that are in both\n",
    "emar_compare_pharma = df_merged_emar_and_pharma.loc[df_merged_emar_and_pharma['medication'] != df_merged_emar_and_pharma['emar_medication']]\n",
    "emar_compare_pharma = emar_compare_pharma[emar_compare_pharma['medication'].notnull() | emar_compare_pharma['emar_medication'].notnull()] \n",
    "\n",
    "emar_compare_presc = df_merged_emar_and_presc.loc[df_merged_emar_and_presc['drug'] != df_merged_emar_and_presc['emar_medication']]"
   ]
  },
  {
   "cell_type": "code",
   "execution_count": null,
   "metadata": {},
   "outputs": [],
   "source": [
    "print(f'There are {len(df_emar_meds):,} emar medication in the cohort')\n",
    "print(f'There are {len(emar_compare_pharma):,} medication mismatches between emar and pharmacy')\n",
    "print(f'There are {len(emar_compare_presc):,} medication mismatches between emar and prescriptions')\n",
    "print(f'That amounts to {len(emar_compare_pharma)/len(df_merged_emar_and_pharma):.2%} of medication mismatching between emar/pharmacy')\n",
    "print(f'That amounts to {len(emar_compare_presc)/len(df_merged_emar_and_presc):.2%} of medication mismatching between emar/prescriptions')"
   ]
  },
  {
   "cell_type": "code",
   "execution_count": null,
   "metadata": {},
   "outputs": [],
   "source": [
    "emar_compare_pharma\n",
    "df_merged_emar_and_pharma.iloc[7].medication == df_merged_emar_and_pharma.iloc[7].emar_medication"
   ]
  },
  {
   "cell_type": "code",
   "execution_count": null,
   "metadata": {},
   "outputs": [],
   "source": [
    "emar_compare_presc.iloc[100:150]"
   ]
  },
  {
   "cell_type": "code",
   "execution_count": null,
   "metadata": {},
   "outputs": [],
   "source": [
    "emar_compare_pharma[emar_compare_pharma['medication'].notnull() | emar_compare_pharma['emar_medication'].notnull()] "
   ]
  },
  {
   "cell_type": "markdown",
   "metadata": {},
   "source": [
    "## Emar stats alone"
   ]
  },
  {
   "cell_type": "code",
   "execution_count": null,
   "metadata": {},
   "outputs": [],
   "source": [
    "q_emar_detail_events = \"\"\"\n",
    "    SELECT emd.subject_id, em.pharmacy_id, em.medication, emd.product_code, em.poe_id\n",
    "    FROM \n",
    "        mimiciv_hosp.emar_detail emd\n",
    "        LEFT JOIN mimiciv_hosp.emar em\n",
    "            ON emd.emar_id = em.emar_id\n",
    "        INNER JOIN mimic_core.patients p \n",
    "            ON em.subject_id = p.subject_id\n",
    "    WHERE \n",
    "        anchor_year_group = '2017 - 2019'\n",
    "        AND emd.parent_field_ordinal IS NOT NULL;\n",
    "\"\"\"\n",
    "emar_detail_events = pd.read_sql_query(q_emar_detail_events, db_conn)"
   ]
  },
  {
   "cell_type": "code",
   "execution_count": null,
   "metadata": {},
   "outputs": [],
   "source": [
    "\n",
    "sys.getsizeof(emar_detail_events) # 2GB!"
   ]
  },
  {
   "cell_type": "code",
   "execution_count": null,
   "metadata": {},
   "outputs": [],
   "source": [
    "null_product_code = emar_detail_events.product_code.isna().sum()\n",
    "null_medication = emar_detail_events.medication.isna().sum()\n",
    "null_poe_id = emar_detail_events.poe_id.isna().sum()\n",
    "null_pharmacy_id = emar_detail_events.pharmacy_id.isna().sum()\n",
    "total_emar_detail_size = len(emar_detail_events)\n",
    "\n",
    "print(f'There are {null_product_code/total_emar_detail_size:.2%} null product codes')\n",
    "print(f'There are {null_medication/total_emar_detail_size:.2%} null medication codes')\n",
    "print(f'There are {null_poe_id/total_emar_detail_size:.2%} null poe_id')\n",
    "print(f'There are {null_pharmacy_id/total_emar_detail_size:.2%} null pharmacy_id')\n"
   ]
  },
  {
   "cell_type": "markdown",
   "metadata": {},
   "source": [
    "Order of medication in emar:\n",
    "- emar_detail.product_code (more specific)\n",
    "- emar.medication\n",
    "- poe.order_type (based on poe_id) --> mostly TPN/IV events"
   ]
  },
  {
   "cell_type": "code",
   "execution_count": null,
   "metadata": {},
   "outputs": [],
   "source": [
    "print(f'{1-null_product_code/total_emar_detail_size:.2%} emar events that depend on product_code')\n",
    "print(f'The remaining {null_product_code/total_emar_detail_size:.2%} emar events then try to use medication')"
   ]
  },
  {
   "cell_type": "code",
   "execution_count": null,
   "metadata": {},
   "outputs": [],
   "source": [
    "em_medication_no_product_code = (emar_detail_events.product_code.isna() & emar_detail_events.medication.notna()).sum()"
   ]
  },
  {
   "cell_type": "code",
   "execution_count": null,
   "metadata": {},
   "outputs": [],
   "source": [
    "remaining_for_poe = (1-null_product_code/total_emar_detail_size)+em_medication_no_product_code/total_emar_detail_size\n",
    "print(f'{em_medication_no_product_code/total_emar_detail_size:.2%} emar events that depend on medication when no product_code')\n",
    "print(f'The remaining {1-remaining_for_poe:.2%} emar events then use poe_id')"
   ]
  },
  {
   "cell_type": "code",
   "execution_count": null,
   "metadata": {},
   "outputs": [],
   "source": [
    "total_emar_detail_size"
   ]
  },
  {
   "cell_type": "code",
   "execution_count": null,
   "metadata": {},
   "outputs": [],
   "source": [
    "print(f'{1-null_medication/total_emar_detail_size:.2%} emar events that depend on medication')\n",
    "print(f'The remaining {null_medication/total_emar_detail_size:.2%} emar events then try to use product_code')"
   ]
  },
  {
   "cell_type": "code",
   "execution_count": null,
   "metadata": {},
   "outputs": [],
   "source": [
    "em_product_code_no_medication = (emar_detail_events.product_code.notna() & emar_detail_events.medication.isna()).sum()"
   ]
  },
  {
   "cell_type": "code",
   "execution_count": null,
   "metadata": {},
   "outputs": [],
   "source": [
    "remaining_for_poe2 = (1-null_medication/total_emar_detail_size)+em_product_code_no_medication/total_emar_detail_size\n",
    "print(f'{em_product_code_no_medication/total_emar_detail_size:.2%} emar events that depend on product_code when no medication')\n",
    "print(f'The remaining {1-remaining_for_poe2:.2%} emar events then use poe_id')"
   ]
  },
  {
   "cell_type": "markdown",
   "metadata": {},
   "source": [
    "## Exploring Prescriptions"
   ]
  },
  {
   "cell_type": "code",
   "execution_count": null,
   "metadata": {},
   "outputs": [],
   "source": [
    "q_prescriptions_med = \"\"\"\n",
    "    SELECT pr.subject_id, pr.hadm_id, pr.pharmacy_id, pr.drug, pr.drug_type, pr.gsn, pr.ndc, pr.formulary_drug_cd\n",
    "    FROM \n",
    "        mimiciv_hosp.prescriptions pr\n",
    "        INNER JOIN mimic_core.patients pat \n",
    "            ON pr.subject_id = pat.subject_id\n",
    "    WHERE anchor_year_group = '2017 - 2019'\n",
    "\"\"\"\n",
    "df_prescriptions_med = pd.read_sql_query(q_prescriptions_med, db_conn)"
   ]
  },
  {
   "cell_type": "code",
   "execution_count": null,
   "metadata": {},
   "outputs": [],
   "source": [
    "df_prescriptions_med"
   ]
  },
  {
   "cell_type": "code",
   "execution_count": null,
   "metadata": {},
   "outputs": [],
   "source": [
    "total_prescription_med = len(df_prescriptions_med)\n",
    "present_drug = len(df_prescriptions_med[df_prescriptions_med['drug'].notna()])\n",
    "present_gsn = len(df_prescriptions_med[df_prescriptions_med['gsn'].notna() & (df_prescriptions_med['gsn'] != '')])\n",
    "present_ndc = len(df_prescriptions_med[(df_prescriptions_med['ndc'].notna()) & (df_prescriptions_med['ndc'] != '0')])\n",
    "present_formulary = len(df_prescriptions_med[df_prescriptions_med['formulary_drug_cd'].notna()])"
   ]
  },
  {
   "cell_type": "code",
   "execution_count": null,
   "metadata": {},
   "outputs": [],
   "source": [
    "print(f'{present_drug/total_prescription_med:.2%} drug names present in prescriptions')\n",
    "print(f'{present_gsn/total_prescription_med:.2%} GSN codes present in prescriptions')\n",
    "print(f'{present_ndc/total_prescription_med:.2%} NDC codes present in prescriptions') \n",
    "print(f'{present_formulary/total_prescription_med:.2%} formulary drug codes present in prescriptions')\n"
   ]
  },
  {
   "cell_type": "code",
   "execution_count": null,
   "metadata": {},
   "outputs": [],
   "source": [
    "# check for how many are remaining\n",
    "pr_medication_gsn_no_ndc = ((df_prescriptions_med['ndc'].isna() | (df_prescriptions_med['ndc'] == '0')) &  df_prescriptions_med.gsn.notna()).sum()\n",
    "pr_medication_fdc_no_gsn_or_ndc = (((df_prescriptions_med['ndc'].isna() | (df_prescriptions_med['ndc'] == '0')) \n",
    "                                    & df_prescriptions_med.gsn.isna()) & df_prescriptions_med['formulary_drug_cd'].notna()).sum()\n",
    "\n",
    "print(f'{pr_medication_gsn_no_ndc/total_prescription_med:.2%} gsn drug code present when ndc is not')\n",
    "print(f'{pr_medication_fdc_no_gsn_or_ndc/total_prescription_med:.2%} formulary drug codes drug present when ndc/gsn are not')"
   ]
  },
  {
   "cell_type": "markdown",
   "metadata": {},
   "source": [
    "#### Look for same med identifier with different secondary identifiers"
   ]
  },
  {
   "cell_type": "code",
   "execution_count": null,
   "metadata": {},
   "outputs": [],
   "source": [
    "df_prescriptions_med.groupby(df_prescriptions_med['drug'])"
   ]
  },
  {
   "cell_type": "code",
   "execution_count": null,
   "metadata": {},
   "outputs": [],
   "source": []
  }
 ],
 "metadata": {
  "interpreter": {
   "hash": "cc120b1e18bb4a5f2e2642a03748ea27e23f9ca213fbd8a1e99c84606e813ff8"
  },
  "kernelspec": {
   "display_name": "Python 3.9.7 ('mimic-fhir')",
   "language": "python",
   "name": "python3"
  },
  "language_info": {
   "codemirror_mode": {
    "name": "ipython",
    "version": 3
   },
   "file_extension": ".py",
   "mimetype": "text/x-python",
   "name": "python",
   "nbconvert_exporter": "python",
   "pygments_lexer": "ipython3",
   "version": "3.9.12"
  },
  "orig_nbformat": 4
 },
 "nbformat": 4,
 "nbformat_minor": 2
}
