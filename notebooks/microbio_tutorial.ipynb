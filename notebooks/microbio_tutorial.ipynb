{
 "cells": [
  {
   "cell_type": "markdown",
   "id": "45057b03-182e-4b50-8101-740be054be99",
   "metadata": {},
   "source": [
    "# MIMIC Microbiology on FHIR\n",
    "This notebook looks to explore the microbiology data as it migrates from MIMIC to FHIR\n",
    "In this notebook a couple key areas will be explored:\n",
    "- Microbiology tests with no explicit result\n",
    "- Microbiology tests with organisms and no susceptibility\n",
    "- Microbiology tests with organisms and susceptibility\n",
    "- Do we need to add a specimen resource? \n",
    "  - Currently not referencing since no extra information is present (check with alistair if more can be made available)\n",
    "\n",
    "To Do\n",
    "- Add invariant to ObservationMicroTest profile to specify one of hasMember or valueString MUST be present\n",
    "- Add Specimen resource?\n",
    "  - Can we assume the collection time is the charttime?\n",
    "  - Is it worth having specimen resource if all it has is an identifier, time, and patient link?\n",
    "- Do dilution values need to be stored in ObservaitonMicroSusc?\n",
    "\n",
    "\n",
    "In microbiology there are 3,397,914 rows that need to be translated into FHIR. That breaks down to:\n",
    "- Test with no organism: 2,064,764 \n",
    "- Test with organism no susc: 185,980\n",
    "- Test with organism and susc: 1,147,170"
   ]
  },
  {
   "cell_type": "code",
   "execution_count": null,
   "id": "a7ba8773-db14-493a-a5a2-213e23f35c2b",
   "metadata": {
    "ExecuteTime": {
     "end_time": "2022-02-28T20:49:00.079529Z",
     "start_time": "2022-02-28T20:48:59.334200Z"
    }
   },
   "outputs": [],
   "source": [
    "# Import libraries\n",
    "import numpy as np\n",
    "import pandas as pd\n",
    "import psycopg2\n",
    "import os\n",
    "import uuid\n",
    "from pathlib import Path\n",
    "from dotenv import load_dotenv\n",
    "import matplotlib.pyplot as plt\n",
    "%matplotlib inline\n",
    "plt.style.use('ggplot') "
   ]
  },
  {
   "cell_type": "code",
   "execution_count": null,
   "id": "8a5e758a-8602-47bd-874b-dec47469def2",
   "metadata": {
    "ExecuteTime": {
     "end_time": "2022-02-28T20:49:00.089788Z",
     "start_time": "2022-02-28T20:49:00.080881Z"
    }
   },
   "outputs": [],
   "source": [
    "# load environment variables\n",
    "load_dotenv(load_dotenv(Path(Path.cwd()).parents[0] / '.env'))\n",
    "\n",
    "SQLUSER = os.getenv('SQLUSER')\n",
    "SQLPASS = os.getenv('SQLPASS')\n",
    "DBNAME_MIMIC = os.getenv('DBNAME_MIMIC')\n",
    "HOST = os.getenv('DBHOST')\n",
    "\n",
    "# Connect to DB\n",
    "con = psycopg2.connect(dbname=DBNAME_MIMIC, user=SQLUSER, password=SQLPASS, host=HOST)\n",
    "\n",
    "# initialize uuid namespaces\n",
    "ns_mimic = uuid.uuid5(uuid.NAMESPACE_OID, 'MIMIC-IV')\n",
    "ns_micro_test = uuid.uuid5(ns_mimic,'ObservationMicroTest')\n",
    "ns_micro_org = uuid.uuid5(ns_mimic,'ObservationMicroOrg')\n",
    "ns_micro_susc = uuid.uuid5(ns_mimic,'ObservationMicroSusc')"
   ]
  },
  {
   "cell_type": "markdown",
   "id": "3d7c5da4-ffcf-42b9-bca1-2440e4a21162",
   "metadata": {},
   "source": [
    "## 1. Tests with no linked organisms\n",
    "What is the value of storing a test with no orgnaisms or explicit results? The results appear to be more of a non-result, with notes stored in the `comments` column.\n",
    "\n",
    "To explore this we will pull in a sample of urine culture test with no organisms associated with them."
   ]
  },
  {
   "cell_type": "code",
   "execution_count": null,
   "id": "e7e08dae-ca60-4202-b15f-c3da448d30ee",
   "metadata": {
    "ExecuteTime": {
     "end_time": "2022-02-28T20:49:00.937803Z",
     "start_time": "2022-02-28T20:49:00.885042Z"
    }
   },
   "outputs": [],
   "source": [
    "q_microtest = \"\"\"\n",
    "    SELECT * FROM mimiciv_hosp.microbiologyevents m \n",
    "    WHERE org_itemid IS NULL AND test_name = 'URINE CULTURE'\n",
    "    LIMIT 100\n",
    "\"\"\"\n",
    "microtest = pd.read_sql_query(q_microtest,con)"
   ]
  },
  {
   "cell_type": "code",
   "execution_count": null,
   "id": "0980596d-db7b-4698-b767-b8151da7f7e9",
   "metadata": {
    "ExecuteTime": {
     "end_time": "2022-02-28T15:54:35.311354Z",
     "start_time": "2022-02-28T15:54:35.272520Z"
    }
   },
   "outputs": [],
   "source": [
    "microtest"
   ]
  },
  {
   "cell_type": "code",
   "execution_count": null,
   "id": "62c318e5-3efb-4f3b-8be3-08fde56d1801",
   "metadata": {},
   "outputs": [],
   "source": [
    "microtest.comments[20:40]"
   ]
  },
  {
   "cell_type": "markdown",
   "id": "0c723cea-07e9-41ab-89bb-d2c3260c9628",
   "metadata": {},
   "source": [
    "What we see is that the information we can pull from a test with no organism is timing and the comment. The comment for urine culture specified 'No Growth' in the most straight forward case and 'Mixed Bacterial Flora' in the more detailed comment. Both effectively state that the test could not be completed for various reasons.\n",
    "\n",
    "The primary reasons for no test results appear to be\n",
    "- no growth\n",
    "- contaminiation\n",
    "- not enough organism\n",
    "\n",
    "Let's pull all comments from microbiologyevents and see the count for different reasons"
   ]
  },
  {
   "cell_type": "code",
   "execution_count": null,
   "id": "bffdc950-0891-4ce6-afd3-f9d2ab0b9915",
   "metadata": {
    "ExecuteTime": {
     "end_time": "2022-02-28T15:55:53.660230Z",
     "start_time": "2022-02-28T15:55:52.030338Z"
    }
   },
   "outputs": [],
   "source": [
    "q_microcomments = \"\"\"\n",
    "    SELECT comments FROM mimiciv_hosp.microbiologyevents m \n",
    "    WHERE org_itemid IS NULL AND comments IS NOT NULL\n",
    "\"\"\"\n",
    "microcomments = pd.read_sql_query(q_microcomments,con)"
   ]
  },
  {
   "cell_type": "code",
   "execution_count": null,
   "id": "ac590905",
   "metadata": {
    "ExecuteTime": {
     "end_time": "2022-02-28T15:56:19.472909Z",
     "start_time": "2022-02-28T15:56:19.453464Z"
    }
   },
   "outputs": [],
   "source": [
    "microcomments.head()"
   ]
  },
  {
   "cell_type": "code",
   "execution_count": null,
   "id": "c11dd3a5",
   "metadata": {
    "ExecuteTime": {
     "end_time": "2022-02-28T16:15:06.323662Z",
     "start_time": "2022-02-28T16:15:06.318303Z"
    }
   },
   "outputs": [],
   "source": [
    "# Get the count for each distinct comment\n",
    "df_comments = microcomments.groupby(['comments']).size().reset_index(name='counts')\n",
    "\n",
    "# Grab the most commonly used comments and plot!\n",
    "df_comments_plt = df_comments[df_comments.counts > 20000]\n",
    "df_comments_plt.comments = df_comments_plt.comments.str[0:30] # trim comment so that it can be displayed \n",
    "df_comments_plt = df_comments_plt.sort_values('counts', ascending=True)"
   ]
  },
  {
   "cell_type": "code",
   "execution_count": null,
   "id": "c5b6b392",
   "metadata": {
    "ExecuteTime": {
     "end_time": "2022-02-28T16:15:06.842243Z",
     "start_time": "2022-02-28T16:15:06.667343Z"
    }
   },
   "outputs": [],
   "source": [
    "plt.figure(figsize=[12,8])\n",
    "plt.barh(df_comments_plt.comments, df_comments_plt.counts)\n",
    "plt.xticks(rotation=45)\n",
    "plt.xlabel('Comment counts')\n",
    "plt.show()"
   ]
  },
  {
   "cell_type": "markdown",
   "id": "b00f07dc",
   "metadata": {},
   "source": [
    "From the plot of the most common comments for tests with no organism, we can clearly see a pattern. The majority of comments are non-results where the organism could not be isolated or grown. A couple do state results with positive/negative readings. \n",
    "\n",
    "Thus it is useful to store the test comments as a value in the FHIR Observation resource to specify why a result/organism is not present. Let's look at an example of just that in FHIR!"
   ]
  },
  {
   "cell_type": "code",
   "execution_count": null,
   "id": "d01bec40",
   "metadata": {
    "ExecuteTime": {
     "end_time": "2022-02-28T16:23:11.642686Z",
     "start_time": "2022-02-28T16:23:11.615170Z"
    }
   },
   "outputs": [],
   "source": [
    "micro_id = 'd6e9f4ae-8449-5607-b5c1-264a3393e674'\n",
    "q_fhir_micotest = \"\"\"\n",
    "    SELECT * \n",
    "    FROM mimic_fhir.observation_micro_test\n",
    "    WHERE id = 'd6e9f4ae-8449-5607-b5c1-264a3393e674'\n",
    "\"\"\"\n",
    "fhir_microtest = pd.read_sql_query(q_fhir_micotest,con)\n",
    "fhir_microtest"
   ]
  },
  {
   "cell_type": "code",
   "execution_count": null,
   "id": "97378c40",
   "metadata": {
    "ExecuteTime": {
     "end_time": "2022-02-28T16:23:28.227929Z",
     "start_time": "2022-02-28T16:23:28.210072Z"
    }
   },
   "outputs": [],
   "source": [
    "fhir_microtest.fhir[0]"
   ]
  },
  {
   "cell_type": "markdown",
   "id": "6bceeadc",
   "metadata": {},
   "source": [
    "The FHIR resource summarizes the test with no organism with the following information:\n",
    "- code -> the test completed\n",
    "- subject -> the patient the test was performed on\n",
    "- valueString -> the result comments, since no organism specified\n",
    "- effectiveDateTime -> the time the result was entered"
   ]
  },
  {
   "cell_type": "markdown",
   "id": "4b71db66",
   "metadata": {},
   "source": [
    "## 2. Tests with organism and no susceptiblity\n",
    "There are some cases where an organsim will be found for a test but not susceptibility results come through. The primary reason for this is healthcare providers putting the results in comments instead.\n",
    "\n",
    "Breakdown of rows translating to FHIR\n",
    "- Total: 185,890\n",
    "- With comments: 42,300\n",
    "  - Can report comments as valueString in place of the interpretation code\n",
    "- Without comments: 143,680\n",
    "  - Not really much we can report then...\n",
    "  \n",
    "In this case we will have a resource for the test and a resource for the organism. Some notes\n",
    "- The test resource will have timing information and the references to organisms\n",
    "- The organism resource will have the organism details but no results..."
   ]
  },
  {
   "cell_type": "code",
   "execution_count": null,
   "id": "4568fe50",
   "metadata": {
    "ExecuteTime": {
     "end_time": "2022-02-28T19:27:32.337604Z",
     "start_time": "2022-02-28T19:27:32.189772Z"
    }
   },
   "outputs": [],
   "source": [
    "q_microtest2 = \"\"\"\n",
    "    SELECT m.* \n",
    "    FROM \n",
    "        mimiciv_hosp.microbiologyevents m \n",
    "        INNER JOIN fhir_etl.subjects sub\n",
    "            ON m.subject_id = sub.subject_id\n",
    "    WHERE org_itemid IS NOT NULL AND interpretation IS NULL\n",
    "    LIMIT 100\n",
    "\"\"\"\n",
    "microtest2 = pd.read_sql_query(q_microtest2,con)\n",
    "microtest2"
   ]
  },
  {
   "cell_type": "markdown",
   "id": "43e40d5a",
   "metadata": {},
   "source": [
    "The FHIR test resource just contains a link to the organism resources:"
   ]
  },
  {
   "cell_type": "code",
   "execution_count": null,
   "id": "25410184",
   "metadata": {
    "ExecuteTime": {
     "end_time": "2022-02-28T19:36:06.346967Z",
     "start_time": "2022-02-28T19:36:06.328581Z"
    }
   },
   "outputs": [],
   "source": [
    "# pull in mimic_fhir resources for test and organism\n",
    "micro_specimen_id = microtest2.iloc(0)[0].micro_specimen_id\n",
    "test_itemid = microtest2.iloc(0)[0].test_itemid\n",
    "uuid_test = uuid.uuid5(ns_micro_test,f'{micro_specimen_id}-{test_itemid}')\n",
    "\n",
    "q_fhir_microtest2 = f\"\"\"\n",
    "    SELECT * FROM mimic_fhir.observation_micro_test\n",
    "    WHERE id = '{str(uuid_test)}'\n",
    "\"\"\"\n",
    "fhir_microtest2 = pd.read_sql_query(q_fhir_microtest2,con)"
   ]
  },
  {
   "cell_type": "code",
   "execution_count": null,
   "id": "6cbc5974",
   "metadata": {
    "ExecuteTime": {
     "end_time": "2022-02-28T19:37:22.059546Z",
     "start_time": "2022-02-28T19:37:22.053717Z"
    }
   },
   "outputs": [],
   "source": [
    "fhir_microtest2.fhir[0]"
   ]
  },
  {
   "cell_type": "markdown",
   "id": "cd1f5cf3",
   "metadata": {},
   "source": [
    "From the test Observation resource we can see the organism uuid in the `hasMember` element. Let's pull that in to see the organism Observation resource:"
   ]
  },
  {
   "cell_type": "code",
   "execution_count": null,
   "id": "d3f6969c",
   "metadata": {
    "ExecuteTime": {
     "end_time": "2022-02-28T19:40:55.173308Z",
     "start_time": "2022-02-28T19:40:55.167683Z"
    }
   },
   "outputs": [],
   "source": [
    "uuid_micro_org = fhir_microtest2.fhir[0]['hasMember'][0]['reference'].split('/')[1]\n",
    "q_fhir_micro_org2= f\"\"\"\n",
    "    SELECT * FROM mimic_fhir.observation_micro_org\n",
    "    WHERE id = '{str(uuid_micro_org)}'\n",
    "\"\"\"\n",
    "fhir_micro_org2 = pd.read_sql_query(q_fhir_micro_org2,con)"
   ]
  },
  {
   "cell_type": "code",
   "execution_count": null,
   "id": "4ba4c67a",
   "metadata": {
    "ExecuteTime": {
     "end_time": "2022-02-28T19:41:04.029793Z",
     "start_time": "2022-02-28T19:41:04.025024Z"
    }
   },
   "outputs": [],
   "source": [
    "fhir_micro_org2.fhir[0]"
   ]
  },
  {
   "cell_type": "markdown",
   "id": "0d1fb771",
   "metadata": {},
   "source": [
    "In the microrgnaism Observation resource there are a couple interesting elements\n",
    "- derivedFrom -> this points back to the test Observation that pointed to this organism\n",
    "- valueString -> provides the result context if no susceptiblity data is present\n",
    "  - This is value is imputed if there is an organism with no antibiotics tested or comments. Imputed value is 'No susceptibility data present\n",
    "- effectiveDateTime - > This is the same time as the test, as "
   ]
  },
  {
   "cell_type": "markdown",
   "id": "a16a5d39",
   "metadata": {},
   "source": [
    "## 3. Test with orgnaism and susceptibility\n",
    "Tests with organism and susceptiblity acount for only a 1/3 of the microbiology data in mimic but it is the more useful data. Let follow one test through the whole process test->organism->susceptibility\n",
    "\n",
    "A common microbiology event is testing of urine cultures, so let's follow an example of that through the whole process. \n",
    "\n",
    "![microbiology_workflow](img/microbiology_workflow.png)\n",
    "\n",
    "Load in an urine culture test example"
   ]
  },
  {
   "cell_type": "code",
   "execution_count": null,
   "id": "2077fea2",
   "metadata": {
    "ExecuteTime": {
     "end_time": "2022-02-28T20:49:17.451284Z",
     "start_time": "2022-02-28T20:49:17.213688Z"
    }
   },
   "outputs": [],
   "source": [
    "specimen_id = 364005\n",
    "test_itemid = 90039 # URINE CULTURE\n",
    "q_micro_test3 = f\"\"\"\n",
    "    SELECT \n",
    "        microevent_id\n",
    "        , micro_specimen_id\n",
    "        , charttime\n",
    "        , storetime\n",
    "        , test_itemid\n",
    "        , test_name\n",
    "        , org_name\n",
    "        , ab_itemid\n",
    "        , ab_name\n",
    "        , interpretation\n",
    "    FROM mimiciv_hosp.microbiologyevents\n",
    "    WHERE \n",
    "        micro_specimen_id = {specimen_id}\n",
    "        AND test_itemid = {test_itemid}\n",
    "\"\"\"\n",
    "micro_test3 = pd.read_sql_query(q_micro_test3,con)"
   ]
  },
  {
   "cell_type": "code",
   "execution_count": null,
   "id": "9db4dae4",
   "metadata": {
    "ExecuteTime": {
     "end_time": "2022-02-28T20:49:20.507300Z",
     "start_time": "2022-02-28T20:49:20.473196Z"
    }
   },
   "outputs": [],
   "source": [
    "micro_test3"
   ]
  },
  {
   "cell_type": "markdown",
   "id": "09010935",
   "metadata": {},
   "source": [
    "From the above table from MIMIC *microbiologyevents* we can see an urine culture example. Some things to note:\n",
    "- There are 2 organisms that were identified\n",
    "- Each of those organisms was tested for multiple antibiotic susceptibility\n",
    "\n",
    "\n",
    "The resulting translation to FHIR should have:\n",
    "- 1 test Observation resource\n",
    "- 2 organism Observation resources\n",
    "- 18 susceptiblity Observation resources\n",
    "\n",
    "What we see coming to FHIR:"
   ]
  },
  {
   "cell_type": "code",
   "execution_count": null,
   "id": "510b3b19",
   "metadata": {
    "ExecuteTime": {
     "end_time": "2022-02-28T20:51:45.697686Z",
     "start_time": "2022-02-28T20:51:45.682837Z"
    }
   },
   "outputs": [],
   "source": [
    "test_uuid = uuid.uuid5(ns_micro_test, f'{specimen_id}-{test_itemid}')\n",
    "\n",
    "q_fhir_microtest3 = f\"\"\"\n",
    "    SELECT * FROM mimic_fhir.observation_micro_test\n",
    "    WHERE id = '{test_uuid}'\n",
    "\"\"\"\n",
    "fhir_micro_test3 = pd.read_sql_query(q_fhir_microtest3,con)                       "
   ]
  },
  {
   "cell_type": "markdown",
   "id": "65a52a01",
   "metadata": {},
   "source": [
    "We can see that the test Resource has the test 'URINE CULTURE' set as a `code` and references the two organisms in `hasMember` "
   ]
  },
  {
   "cell_type": "code",
   "execution_count": null,
   "id": "5e3877aa",
   "metadata": {
    "ExecuteTime": {
     "end_time": "2022-02-28T20:51:46.692716Z",
     "start_time": "2022-02-28T20:51:46.679111Z"
    }
   },
   "outputs": [],
   "source": [
    "fhir_micro_test3.fhir[0]"
   ]
  },
  {
   "cell_type": "markdown",
   "id": "de11eb32",
   "metadata": {},
   "source": [
    "Let's pull up one of the organisms, PSEUDOMONAS AERUGINOSA."
   ]
  },
  {
   "cell_type": "code",
   "execution_count": null,
   "id": "6d86545a",
   "metadata": {
    "ExecuteTime": {
     "end_time": "2022-02-28T20:51:47.834868Z",
     "start_time": "2022-02-28T20:51:47.820105Z"
    }
   },
   "outputs": [],
   "source": [
    "org_uuid = fhir_micro_test3.fhir[0]['hasMember'][1]['reference'].split('/')[1]\n",
    "\n",
    "q_fhir_micro_org3 = f\"\"\"\n",
    "    SELECT * FROM mimic_fhir.observation_micro_org\n",
    "    WHERE id = '{org_uuid}'\n",
    "\"\"\"\n",
    "fhir_micro_org3 = pd.read_sql_query(q_fhir_micro_org3,con)   "
   ]
  },
  {
   "cell_type": "code",
   "execution_count": null,
   "id": "5a61edd5",
   "metadata": {
    "ExecuteTime": {
     "end_time": "2022-02-28T20:51:48.373548Z",
     "start_time": "2022-02-28T20:51:48.361336Z"
    }
   },
   "outputs": [],
   "source": [
    "fhir_micro_org3.fhir[0]"
   ]
  },
  {
   "cell_type": "markdown",
   "id": "85439807",
   "metadata": {},
   "source": [
    "We now see that the ObservationMicroOrg resource points to multiple Observations in `hasMember`. These Observations are suceptiblity results. Now let's pull up one of these to complete the full test->organism->susceptbility workflow"
   ]
  },
  {
   "cell_type": "code",
   "execution_count": null,
   "id": "b09718da",
   "metadata": {
    "ExecuteTime": {
     "end_time": "2022-02-28T20:54:18.254938Z",
     "start_time": "2022-02-28T20:54:18.242196Z"
    }
   },
   "outputs": [],
   "source": [
    "susc_uuid = fhir_micro_org3.fhir[0]['hasMember'][0]['reference'].split('/')[1]\n",
    "\n",
    "q_fhir_micro_susc3 = f\"\"\"\n",
    "    SELECT * FROM mimic_fhir.observation_micro_susc\n",
    "    WHERE id = '{susc_uuid}'\n",
    "\"\"\"\n",
    "fhir_micro_susc3 = pd.read_sql_query(q_fhir_micro_susc3,con)   "
   ]
  },
  {
   "cell_type": "code",
   "execution_count": null,
   "id": "4d0f4925",
   "metadata": {
    "ExecuteTime": {
     "end_time": "2022-02-28T20:54:23.664658Z",
     "start_time": "2022-02-28T20:54:23.649680Z"
    }
   },
   "outputs": [],
   "source": [
    "fhir_micro_susc3.fhir[0]"
   ]
  },
  {
   "cell_type": "markdown",
   "id": "205fbeaf",
   "metadata": {
    "ExecuteTime": {
     "end_time": "2022-02-28T20:53:11.043309Z",
     "start_time": "2022-02-28T20:53:11.032250Z"
    }
   },
   "source": [
    "We finally have some results! Let's dive into them. \n",
    "- `code` tells use which antibiotic was tested - Ciproflaxin here\n",
    "- `derivedFrom` points back to the organism resource we are testing\n",
    "- `valueCodeableConcept` is the susceptibility result- here we have R which is resistant\n",
    "\n",
    "We have now gone through the full microbiology workflow. Some summary notes:\n",
    "- ObservationMicroTest\n",
    "  - Marks the time the specimen was taken in `effectiveDateTime`\n",
    "  - Specifies reason test has no results in `valueString`\n",
    "  - Links to organisms tested in `hasMember`\n",
    "- ObservationMicroOrg\n",
    "  - Specifies reason an organism has no results in `valueString` if needed\n",
    "  - Links to susceptiblity results in `hasMember`\n",
    "  - Links to the parent test in `derivedFrom`\n",
    "- ObservationMicroSusc\n",
    "  - Marks the time the result was avaialble in `effectiveDateTime`\n",
    "  - Results are presented in `valueCodeableConcept`\n",
    "  - Links back to the organism observation in `derivedFrom`"
   ]
  },
  {
   "cell_type": "markdown",
   "id": "19fc4fa6",
   "metadata": {},
   "source": []
  },
  {
   "cell_type": "code",
   "execution_count": null,
   "id": "63bb2971",
   "metadata": {},
   "outputs": [],
   "source": []
  }
 ],
 "metadata": {
  "kernelspec": {
   "display_name": "Python 3 (ipykernel)",
   "language": "python",
   "name": "python3"
  },
  "language_info": {
   "codemirror_mode": {
    "name": "ipython",
    "version": 3
   },
   "file_extension": ".py",
   "mimetype": "text/x-python",
   "name": "python",
   "nbconvert_exporter": "python",
   "pygments_lexer": "ipython3",
   "version": "3.8.5"
  }
 },
 "nbformat": 4,
 "nbformat_minor": 5
}
