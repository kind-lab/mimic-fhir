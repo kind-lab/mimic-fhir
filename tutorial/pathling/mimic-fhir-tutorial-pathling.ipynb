{
 "cells": [
  {
   "cell_type": "markdown",
   "metadata": {},
   "source": [
    "# MIMIC-FHIR Tutorial\n",
    "This tutorial will walk through importing, searching, and analyzing mimic-fhir resources using the [Pathling](https://pathling.csiro.au/) FHIR server. Pathling is a FHIR server optimized for analytics with additional functionality added.\n",
    "\n",
    "To begin complete these steps:\n",
    "- Start the [Pathling](https://pathling.csiro.au/) server by running the `docker-compose up` command in terminal (download [docker](https://docs.docker.com/engine/install/) and [docker-compose](https://docs.docker.com/compose/install/) if needed)\n",
    "- Ensure all mimic-fhir ndjson are unzipped and stored in the *staging* folder beside the docker-compose.yml \n",
    "- [Import](#import-all-mimic-fhir-resources-to-pathling) mimic-fhir resources using this notebook \n",
    "- Proceed to [Index of Operations](#index-of-operations) for search, aggregation and extract examples "
   ]
  },
  {
   "cell_type": "code",
   "execution_count": null,
   "metadata": {},
   "outputs": [],
   "source": [
    "from pathlib import Path\n",
    "import requests\n",
    "import json\n",
    "import ndjson\n",
    "import pandas as pd\n",
    "\n",
    "import matplotlib.pyplot as plt\n",
    "plt.style.use('ggplot')\n",
    "plt.rcParams.update({'font.size': 20})\n",
    "\n",
    "from fhirclient.models.parameters import Parameters, ParametersParameter\n",
    "from py_mimic_fhir.lookup import MIMIC_FHIR_RESOURCES\n",
    "\n",
    "import_folder = 'file:///usr/share/staging' \n",
    "server = 'http://localhost:8000/fhir'"
   ]
  },
  {
   "cell_type": "markdown",
   "metadata": {},
   "source": [
    "<a id='index'></a>\n",
    "### Index of operations\n",
    "- [Import](#import-resources)\n",
    "    - [Import MIMIC-FHIR](#import-all-mimic-fhir-resources-to-pathling)\n",
    "- [Search](#search-resources)\n",
    "    - [Gender with export](#search-and-export-by-gender)\n",
    "    - [Atrial fibrillation patients](#search-for-atrial-fibrillation-patients)\n",
    "    - [Atrial fibrillation patients taking metoprolol](#search-for-atrial-fibrillation-patients-taking-metoprolol)\n",
    "- [Aggregate](#aggregate-resources)\n",
    "    - [Gender](#aggregate-gender)\n",
    "    - [Conditions](#aggregate-conditions)\n",
    "    - [Male patients with atrial fibrillation](#aggregate-male-patients-with-atrial-fibrillation)\n",
    "    - [Medication for atrial fibrillation patients](#aggregate-medication-from-patients-with-atrial-fibrillation)\n",
    "    - [Procedures for atrial fibrillation patients](#aggregate-procedures-for-atrial-fibrillation-patients)\n",
    "    - [Top lab events](#aggregate-lab-events)\n",
    "    - [Top microbiology tests](#aggregate-microbiology-tests)\n",
    "    - [Top microbiology organisms](#aggregate-microbiology-organisms)\n",
    "    - [Top EMAR medication](#aggregate-top-emar-medication)\n",
    "    - [Top ICU medication](#aggregate-top-icu-medication)\n",
    "- [Extract](#extract-resource-table)\n",
    "\n",
    "\n"
   ]
  },
  {
   "cell_type": "markdown",
   "metadata": {},
   "source": [
    "# Import Resources\n",
    "[back to index](#index-of-operations)"
   ]
  },
  {
   "cell_type": "code",
   "execution_count": null,
   "metadata": {},
   "outputs": [],
   "source": [
    "def generate_import_parameters(import_folder, profile, resource, mode):\n",
    "    param_resource = Parameters()\n",
    "\n",
    "    param_resource_type = ParametersParameter()\n",
    "    param_resource_type.name= 'resourceType'\n",
    "    param_resource_type.valueCode = resource\n",
    "\n",
    "    param_url = {}\n",
    "    param_url['name'] = 'url'\n",
    "    param_url['valueUrl'] = f'{import_folder}/{profile}.ndjson'\n",
    "\n",
    "    param_mode = ParametersParameter()\n",
    "    param_mode.name= 'mode'\n",
    "    param_mode.valueCode = mode\n",
    "\n",
    "    param_source = ParametersParameter()\n",
    "    param_source.name = 'source'\n",
    "    param_source.part = [param_resource_type, param_url, param_mode]\n",
    "    param_resource.parameter = [param_source]\n",
    "    \n",
    "    return param_resource.as_json()\n",
    "\n",
    "def post_import_ndjson(server, param):\n",
    "    url = f'{server}/$import'\n",
    "\n",
    "    resp = requests.post(url,  json = param, headers={\"Content-Type\": \"application/fhir+json\"} )\n",
    "    return resp "
   ]
  },
  {
   "cell_type": "markdown",
   "metadata": {},
   "source": [
    "### Import all mimic-fhir resources to Pathling\n",
    "[back to index](#index-of-operations)\n",
    "* Place all files in a directory called 'staging', right beside this notebook\n",
    "  * Data files can be placed in another location as long as the docker-compose.yml is updated\n",
    "* NOTE: Need to make sure the files are in ndjson format NOT ndjson.gzip. Unzip the files if gzipped."
   ]
  },
  {
   "cell_type": "code",
   "execution_count": null,
   "metadata": {},
   "outputs": [],
   "source": [
    "mode = 'merge' # overwrite for fresh load (but not really since need to merge Observations not overwrite)\n",
    "\n",
    "for profile, resource in MIMIC_FHIR_RESOURCES.items():\n",
    "    # ObservationChartevents too large and crashing all the observation searches\n",
    "    if (profile != 'ObservationChartevents'):\n",
    "        param = generate_import_parameters(import_folder, profile, resource, mode)\n",
    "        resp = post_import_ndjson(server, param)\n",
    "        print(f\"{profile}: {resp.json()['issue'][0]['diagnostics']}\")"
   ]
  },
  {
   "cell_type": "markdown",
   "metadata": {},
   "source": [
    "# Search Resources\n",
    "[back to index](#index-of-operations)\n",
    "\n",
    "The search functionality allows you to get grouping of resources with common elements. Ie getting all female patients. \n",
    "\n",
    "To get specific resource grouping you can use the aggregation output to create the fhirpath search string. \n"
   ]
  },
  {
   "cell_type": "code",
   "execution_count": null,
   "metadata": {},
   "outputs": [],
   "source": [
    "def get_query(server, resource_type, filter_path, count=10):\n",
    "    url = f'{server}/{resource_type}?_query=fhirPath&filter={filter_path}&_count={count}' \n",
    "\n",
    "    resp = requests.get(url,  headers={\"Content-Type\": \"application/fhir+json\"} )\n",
    "    return resp.json()\n",
    "\n",
    "def export_resources(resp, resource_type, output_path):\n",
    "    output_file = f'{output_path}/{resource_type}.ndjson'\n",
    "\n",
    "    with open(output_file, 'w+') as outfile:\n",
    "        writer = ndjson.writer(outfile)\n",
    "        for entry in resp['entry']:\n",
    "            writer.writerow(entry['resource'])           "
   ]
  },
  {
   "cell_type": "markdown",
   "metadata": {},
   "source": [
    "#### Search and export by gender\n",
    "[back to index](#index-of-operations)"
   ]
  },
  {
   "cell_type": "code",
   "execution_count": null,
   "metadata": {},
   "outputs": [],
   "source": [
    "resource_type = 'Patient'\n",
    "filter_path = \"gender='male'\" # ((reverseResolve(Condition.subject).code.coding.where($this.subsumedBy(http://fhir.mimic.mit.edu/CodeSystem/diagnosis-icd9|4019)).code).empty()) and (gender = 'male')\n",
    "count = 100\n",
    "\n",
    "resp = get_query(server, resource_type, filter_path, count)\n",
    "resp"
   ]
  },
  {
   "cell_type": "code",
   "execution_count": null,
   "metadata": {},
   "outputs": [],
   "source": [
    "output_path = 'output'\n",
    "export_resources(resp, resource_type, output_path)"
   ]
  },
  {
   "cell_type": "markdown",
   "metadata": {},
   "source": [
    "#### Search for atrial fibrillation patients"
   ]
  },
  {
   "cell_type": "code",
   "execution_count": null,
   "metadata": {},
   "outputs": [],
   "source": [
    "resource_type = 'Patient'\n",
    "filter_path = \"reverseResolve(Condition.subject).code.subsumedBy(http://fhir.mimic.mit.edu/CodeSystem/diagnosis-icd9|42731) contains true\"\n",
    "count = 10\n",
    "\n",
    "resp = get_query(server, resource_type, filter_path, count)\n",
    "resp"
   ]
  },
  {
   "cell_type": "markdown",
   "metadata": {},
   "source": [
    "#### Search for atrial fibrillation patients taking metoprolol"
   ]
  },
  {
   "cell_type": "code",
   "execution_count": null,
   "metadata": {},
   "outputs": [],
   "source": [
    "resource_type = 'Patient'\n",
    "filter_path = \"reverseResolve(Condition.subject).code.subsumedBy(http://fhir.mimic.mit.edu/CodeSystem/diagnosis-icd9|42731) contains true \\\n",
    "               and reverseResolve(MedicationAdministration.subject).medicationCodeableConcept.subsumedBy(http://fhir.mimic.mit.edu/CodeSystem/medication-icu|225974) contains true\"\n",
    "count = 10\n",
    "\n",
    "resp = get_query(server, resource_type, filter_path, count)\n",
    "resp"
   ]
  },
  {
   "cell_type": "markdown",
   "metadata": {},
   "source": [
    "# Aggregate Resources\n",
    "[back to index](#index-of-operations)"
   ]
  },
  {
   "cell_type": "code",
   "execution_count": null,
   "metadata": {},
   "outputs": [],
   "source": [
    "def get_aggregate(server, resource_type, element_path, filter_path=None):\n",
    "    url = f'{server}/{resource_type}/$aggregate?aggregation=count()&grouping={element_path}'\n",
    "\n",
    "    if filter_path is not None:\n",
    "        url = f'{url}&filter={filter_path}'\n",
    "    \n",
    "\n",
    "    resp = requests.get(url, headers={\"Content-Type\": \"application/fhir+json\"} )\n",
    "    return resp.json()\n",
    "\n",
    "def plot_aggregate(resp, title, limit, size=[12,8], rotation=90, ascending=True, skip_missing=False):\n",
    "     parameters = resp['parameter']\n",
    "     list_label= []\n",
    "     list_value = []\n",
    "     for parameter in parameters:\n",
    "          if (len(parameter['part'][0]) == 2):\n",
    "               label_val = list(parameter['part'][0].values())[1]\n",
    "          elif skip_missing:\n",
    "               continue\n",
    "          else:\n",
    "               label_val = 'WITHOUT'\n",
    "          list_label.append(label_val)\n",
    "          list_value.append(parameter['part'][1]['valueUnsignedInt'])\n",
    "\n",
    "     df = pd.DataFrame({'label': list_label, 'value': list_value})\n",
    "     df_sorted = df.sort_values(by=['value'], ascending=ascending).iloc[-limit:] \n",
    "     plt.figure(figsize=size)\n",
    "     plt.barh(df_sorted['label'], df_sorted['value'])\n",
    "    #plt.xticks(rotation=rotation)\n",
    "     plt.title(title)\n",
    "     plt.show()\n"
   ]
  },
  {
   "cell_type": "markdown",
   "metadata": {},
   "source": [
    "#### Aggregate gender\n",
    "[back to index](#index-of-operations)"
   ]
  },
  {
   "cell_type": "code",
   "execution_count": null,
   "metadata": {},
   "outputs": [],
   "source": [
    "resource_type = 'Patient'\n",
    "element_path = 'gender'\n",
    "limit=10\n",
    "size = [6,6]\n",
    "\n",
    "resp = get_aggregate(server, resource_type, element_path)\n",
    "plot_aggregate(resp, element_path, limit, size, rotation=45)"
   ]
  },
  {
   "cell_type": "markdown",
   "metadata": {},
   "source": [
    "#### Aggregate conditions\n",
    "[back to index](#index-of-operations)"
   ]
  },
  {
   "cell_type": "code",
   "execution_count": null,
   "metadata": {},
   "outputs": [],
   "source": [
    "resource_type = 'Condition'\n",
    "element_path = 'code.coding.display'\n",
    "title = f'{resource_type}: {element_path}'\n",
    "limit = 10\n",
    "\n",
    "resp = get_aggregate(server, resource_type, element_path)\n",
    "plot_aggregate(resp, title, limit)"
   ]
  },
  {
   "cell_type": "markdown",
   "metadata": {},
   "source": [
    "#### Aggregate male patients with atrial fibrillation\n",
    "[back to index](#index-of-operations)"
   ]
  },
  {
   "cell_type": "code",
   "execution_count": null,
   "metadata": {},
   "outputs": [],
   "source": [
    "resource_type = 'Patient'\n",
    "element_path = \"reverseResolve(Condition.subject).code.coding.where(subsumedBy(http://fhir.mimic.mit.edu/CodeSystem/diagnosis-icd9|42731)).display\"\n",
    "filter_path=\"gender='male'\"\n",
    "title = f'Males with atrial fibrillation'\n",
    "limit = 10\n",
    "\n",
    "resp = get_aggregate(server, resource_type, element_path, filter_path)\n",
    "plot_aggregate(resp, title, limit, size=[6,6])"
   ]
  },
  {
   "cell_type": "markdown",
   "metadata": {},
   "source": [
    "#### Aggregate medication from patients with atrial fibrillation\n",
    "[back to index](#index-of-operations)"
   ]
  },
  {
   "cell_type": "code",
   "execution_count": null,
   "metadata": {},
   "outputs": [],
   "source": [
    "# patients with AF, what are the top meds?\n",
    "resource_type = 'Patient'\n",
    "element_path = \"reverseResolve(MedicationAdministration.subject).medicationCodeableConcept.coding.display\"\n",
    "filter_path = \"reverseResolve(Condition.subject).code.subsumedBy(http://fhir.mimic.mit.edu/CodeSystem/diagnosis-icd9|42731) contains true\"\n",
    "title = f'Top medication administered for atrial fibrillation patients'\n",
    "limit = 20\n",
    "\n",
    "resp = get_aggregate(server, resource_type, element_path, filter_path)\n",
    "plot_aggregate(resp, title, limit)"
   ]
  },
  {
   "cell_type": "markdown",
   "metadata": {},
   "source": [
    "#### Aggregate procedures for atrial fibrillation patients\n",
    "[back to index](#index-of-operations)"
   ]
  },
  {
   "cell_type": "code",
   "execution_count": null,
   "metadata": {},
   "outputs": [],
   "source": [
    "# patients with atrial fibrillation and their procedures\n",
    "resource_type = 'Patient'\n",
    "element_path = \"reverseResolve(Procedure.subject).code.coding.display\"\n",
    "filter_path = \"reverseResolve(Condition.subject).code.subsumedBy(http://fhir.mimic.mit.edu/CodeSystem/diagnosis-icd9|42731) contains true\"\n",
    "title = f'{resource_type}: Top procedures for atrial fibrillation patients'\n",
    "limit = 15\n",
    "\n",
    "resp = get_aggregate(server, resource_type, element_path, filter_path)\n",
    "plot_aggregate(resp, title, limit)"
   ]
  },
  {
   "cell_type": "markdown",
   "metadata": {},
   "source": [
    "#### Aggregate lab events\n",
    "[back to index](#index-of-operations)"
   ]
  },
  {
   "cell_type": "code",
   "execution_count": null,
   "metadata": {},
   "outputs": [],
   "source": [
    "resource_type = 'Observation'\n",
    "element_path = \"code.coding.display\"\n",
    "filter_path = \"meta.where(profile.first()='http://fhir.mimic.mit.edu/StructureDefinition/mimic-observation-labevents').empty().not()\"\n",
    "title = f'{resource_type}: Top observation labs'\n",
    "limit = 20\n",
    "\n",
    "resp = get_aggregate(server, resource_type, element_path, filter_path)\n",
    "plot_aggregate(resp, title, limit)"
   ]
  },
  {
   "cell_type": "markdown",
   "metadata": {},
   "source": [
    "#### Aggregate microbiology tests\n",
    "[back to index](#index-of-operations)"
   ]
  },
  {
   "cell_type": "code",
   "execution_count": null,
   "metadata": {},
   "outputs": [],
   "source": [
    "# top microbiology tests for patients with atrial fibrillation\n",
    "resource_type = 'Patient'\n",
    "element_path = \"reverseResolve(Observation.subject).code.coding.where(system.first()='http://fhir.mimic.mit.edu/CodeSystem/microbiology-test').display\"\n",
    "title = f'{resource_type}: Top microbiolgoy tests'\n",
    "limit = 20\n",
    "\n",
    "resp = get_aggregate(server, resource_type, element_path)\n",
    "plot_aggregate(resp, title, limit)"
   ]
  },
  {
   "cell_type": "markdown",
   "metadata": {},
   "source": [
    "#### Aggregate microbiology organisms\n",
    "[back to index](#index-of-operations)"
   ]
  },
  {
   "cell_type": "code",
   "execution_count": null,
   "metadata": {},
   "outputs": [],
   "source": [
    "# top microbiology organisms for patients with atrial fibrillation\n",
    "resource_type = 'Patient'\n",
    "element_path = \"reverseResolve(Observation.subject).code.coding.where(system.first()='http://fhir.mimic.mit.edu/CodeSystem/microbiology-organism').display\"\n",
    "title = f'{resource_type}: Top microbiology organism'\n",
    "limit = 20\n",
    "\n",
    "resp = get_aggregate(server, resource_type, element_path)\n",
    "plot_aggregate(resp, title, limit, skip_missing=True)"
   ]
  },
  {
   "cell_type": "markdown",
   "metadata": {},
   "source": [
    "#### Aggregate top emar medication\n",
    "[back to index](#index-of-operations)"
   ]
  },
  {
   "cell_type": "code",
   "execution_count": null,
   "metadata": {},
   "outputs": [],
   "source": [
    "resource_type = 'MedicationAdministration'\n",
    "element_path = \"medicationCodeableConcept.coding.code\"\n",
    "filter_path = \"meta.where(profile.first()='http://fhir.mimic.mit.edu/StructureDefinition/mimic-medication-administration').empty().not()\"\n",
    "title = f'{resource_type}: Top EMAR medication administered'\n",
    "limit = 10\n",
    "\n",
    "resp = get_aggregate(server, resource_type, element_path, filter_path)\n",
    "plot_aggregate(resp, title, limit)"
   ]
  },
  {
   "cell_type": "markdown",
   "metadata": {},
   "source": [
    "#### Aggregate top ICU medication \n",
    "[back to index](#index-of-operations)"
   ]
  },
  {
   "cell_type": "code",
   "execution_count": null,
   "metadata": {},
   "outputs": [],
   "source": [
    "resource_type = 'MedicationAdministration'\n",
    "element_path = \"medicationCodeableConcept.coding.display\"\n",
    "filter_path = \"meta.where(profile.first()='http://fhir.mimic.mit.edu/StructureDefinition/mimic-medication-administration-icu').empty().not()\"\n",
    "title = f'{resource_type}: Top ICU medication administered'\n",
    "limit = 10\n",
    "\n",
    "resp = get_aggregate(server, resource_type, element_path, filter_path)\n",
    "plot_aggregate(resp, title, limit)"
   ]
  },
  {
   "cell_type": "markdown",
   "metadata": {},
   "source": [
    "#### Aggregate top labs for atrial fibrillation patient\n",
    "[back to index](#index-of-operations)"
   ]
  },
  {
   "cell_type": "code",
   "execution_count": null,
   "metadata": {},
   "outputs": [],
   "source": [
    "# top labs for patients with atrial fibrillation\n",
    "resource_type = 'Patient'\n",
    "element_path = \"reverseResolve(Observation.subject).code.coding.where(system.first()='http://fhir.mimic.mit.edu/CodeSystem/d-labitems').display\"\n",
    "filter_path = \"reverseResolve(Condition.subject).code.subsumedBy(http://fhir.mimic.mit.edu/CodeSystem/diagnosis-icd9|42731) contains true\"\n",
    "title = f'{resource_type}: Top labs runs for Atrial Fibrillation patients'\n",
    "limit = 20\n",
    "\n",
    "resp = get_aggregate(server, resource_type, element_path, filter_path)\n",
    "plot_aggregate(resp, title, limit)"
   ]
  },
  {
   "cell_type": "markdown",
   "metadata": {},
   "source": [
    "## Extract resource table\n",
    "[back to index](#index-of-operations)\n",
    "- Run the get extract function and then go to the link specified in the response to download the content. Content will be in CSV format."
   ]
  },
  {
   "cell_type": "code",
   "execution_count": null,
   "metadata": {},
   "outputs": [],
   "source": [
    "def get_extract(server, resource_type, columns, limit):      \n",
    "    url = f'{server}/{resource_type}/$extract?'\n",
    "\n",
    "    for column in columns:\n",
    "        url = f'{url}column={column}&'\n",
    "    \n",
    "    url = f'{url}limit={limit}'\n",
    "    resp = requests.get(url, headers={\"Content-Type\": \"application/fhir+json\"} )\n",
    "    return resp.json()"
   ]
  },
  {
   "cell_type": "code",
   "execution_count": null,
   "metadata": {},
   "outputs": [],
   "source": [
    "resource_type = 'Patient'\n",
    "column1 = 'gender'\n",
    "column2 = 'birthDate'\n",
    "columns = [column1, column2]\n",
    "title = f'{resource_type}: {element_path}'\n",
    "limit = 10\n",
    "\n",
    "resp = get_extract(server, resource_type, columns, limit)\n",
    "resp"
   ]
  },
  {
   "cell_type": "markdown",
   "metadata": {},
   "source": [
    "## Streaming data (not fully implemented)"
   ]
  },
  {
   "cell_type": "code",
   "execution_count": null,
   "metadata": {},
   "outputs": [],
   "source": [
    "# This server is Pathling, but using HAPI FHIR server. Need to start HAPI FHIR for the below commands\n",
    "server = 'http://localhost:8080/fhir'\n",
    "url = f'{server}/metadata?mode=terminology '  \n",
    "resp = requests.get(url=url, headers={\"Content-Type\": \"application/fhir+json\"})\n",
    "resp.json()"
   ]
  },
  {
   "cell_type": "markdown",
   "metadata": {},
   "source": [
    "#### $everything\n",
    "- only writing out patient, condition, and procedure right now..."
   ]
  },
  {
   "cell_type": "code",
   "execution_count": null,
   "metadata": {},
   "outputs": [],
   "source": [
    "url = 'http://localhost:8080/fhir/Patient/a6e7e991-6801-5425-b435-4ca6b7decfcc/$everything?_type=Encounter'\n",
    "resp = requests.get(url=url, headers={\"Content-Type\": \"application/fhir+json\"})\n",
    "\n",
    "with open('output/patient_everything.ndjson', 'w+') as patfile:\n",
    "    writer = ndjson.writer(patfile)\n",
    "    i=0\n",
    "    for entry in resp.json()['entry']:\n",
    "        i=i+1\n",
    "        print(f'writing resource {i}')\n",
    "        writer.writerow(entry['resource'])"
   ]
  }
 ],
 "metadata": {
  "interpreter": {
   "hash": "cc120b1e18bb4a5f2e2642a03748ea27e23f9ca213fbd8a1e99c84606e813ff8"
  },
  "kernelspec": {
   "display_name": "Python 3.9.7 ('mimic-fhir')",
   "language": "python",
   "name": "python3"
  },
  "language_info": {
   "codemirror_mode": {
    "name": "ipython",
    "version": 3
   },
   "file_extension": ".py",
   "mimetype": "text/x-python",
   "name": "python",
   "nbconvert_exporter": "python",
   "pygments_lexer": "ipython3",
   "version": "3.9.12"
  },
  "orig_nbformat": 4
 },
 "nbformat": 4,
 "nbformat_minor": 2
}
