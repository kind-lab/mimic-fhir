{
 "cells": [
  {
   "cell_type": "markdown",
   "metadata": {},
   "source": [
    "# MIMIC-FHIR Tutorial Using HAPI \n",
    "This tutorial will walk through using the mimic-fhir resources with a HAPI FHIR server. The main goals will be:\n",
    "- Import resources into server (delay this for now, just use fully loaded server...)\n",
    "  - But this is important, how to get a fully loaded server from ndjson, lots of bundles\n",
    "  - HAPI has not implemented bulk import of ndjson or even $import to the jpa servers\n",
    "- Export resources from server \n",
    "  - Select subset and export\n",
    "  - $everything to get info for one patient\n",
    "- $translate to take one of our codes and map to more standard FHIR CodeSystem\n",
    "- $validate\n",
    "- $search \n",
    "- check data quality, does every patient have a heart rate? Can do this since hapi can handle this"
   ]
  },
  {
   "cell_type": "code",
   "execution_count": null,
   "metadata": {},
   "outputs": [],
   "source": [
    "from pathlib import Path\n",
    "import requests\n",
    "import json\n",
    "import ndjson\n",
    "import pandas as pd\n",
    "\n",
    "import matplotlib.pyplot as plt\n",
    "plt.style.use('ggplot')\n",
    "plt.rcParams.update({'font.size': 20})\n",
    "\n",
    "from fhirclient.models.parameters import Parameters, ParametersParameter\n",
    "from py_mimic_fhir.lookup import MIMIC_FHIR_RESOURCES\n",
    "\n",
    "FHIR_SERVER = 'http://localhost:8080/fhir'"
   ]
  },
  {
   "cell_type": "markdown",
   "metadata": {},
   "source": [
    "## Import into HAPI"
   ]
  },
  {
   "cell_type": "code",
   "execution_count": null,
   "metadata": {},
   "outputs": [],
   "source": [
    "#"
   ]
  },
  {
   "cell_type": "markdown",
   "metadata": {},
   "source": [
    "## $translate\n",
    "- Is this worth demoing?"
   ]
  },
  {
   "cell_type": "code",
   "execution_count": null,
   "metadata": {},
   "outputs": [],
   "source": []
  },
  {
   "cell_type": "markdown",
   "metadata": {},
   "source": [
    "## $everything"
   ]
  },
  {
   "cell_type": "code",
   "execution_count": null,
   "metadata": {},
   "outputs": [],
   "source": [
    "def write_ndjson_from_response(filename, resp, mode = 'w+'):\n",
    "    with open(filename, mode) as outfile:\n",
    "        writer = ndjson.writer(outfile)\n",
    "        for entry in resp.json()['entry']:\n",
    "            writer.writerow(entry['resource'])"
   ]
  },
  {
   "cell_type": "code",
   "execution_count": null,
   "metadata": {},
   "outputs": [],
   "source": [
    "output_file = 'output/encounter_everything.ndjson'\n",
    "url = f'{FHIR_SERVER}/Encounter/0eade521-5b02-50df-a02c-54f029bc0ba8/$everything'\n",
    "resp = requests.get(url=url, headers={\"Content-Type\": \"application/fhir+json\"})\n",
    "write_ndjson_from_response(output_file, resp)\n",
    "\n",
    "next_url = [link['url'] for link in resp.json()['link'] if link['relation'] == 'next'] \n",
    "while next_url:\n",
    "    url = next_url[0]\n",
    "    resp = requests.get(url=url, headers={\"Content-Type\": \"application/fhir+json\"})\n",
    "    if resp.json()['resourceType'] == 'Bundle': #Good!\n",
    "        write_ndjson_from_response(output_file, resp, 'a+')\n",
    "        next_url = [link['url'] for link in resp.json()['link'] if link['relation'] == 'next'] \n",
    "    else:\n",
    "        print(f\"Breaking out due to error: {resp.json()['issue']}\")\n",
    "        break\n",
    "    "
   ]
  },
  {
   "cell_type": "code",
   "execution_count": null,
   "metadata": {},
   "outputs": [],
   "source": [
    "output_file = 'output/patient_everything.ndjson'\n",
    "url = f'{FHIR_SERVER}/Patient/b410dd44-7d65-56f9-974f-2751e8aa80e2/$everything?_type=Condition'\n",
    "resp = requests.get(url=url, headers={\"Content-Type\": \"application/fhir+json\"})\n",
    "write_ndjson_from_response(output_file, resp)\n",
    "\n",
    "next_url = [link['url'] for link in resp.json()['link'] if link['relation'] == 'next'] \n",
    "while next_url:\n",
    "    url = next_url[0]\n",
    "    resp = requests.get(url=url, headers={\"Content-Type\": \"application/fhir+json\"})\n",
    "    if resp.json()['resourceType'] == 'Bundle': #Good!\n",
    "        write_ndjson_from_response(output_file, resp, 'a+')\n",
    "        next_url = [link['url'] for link in resp.json()['link'] if link['relation'] == 'next'] \n",
    "    else:\n",
    "        print(f\"Breaking out due to error: {resp.json()['issue']}\")\n",
    "        break"
   ]
  },
  {
   "cell_type": "markdown",
   "metadata": {},
   "source": [
    "## $search"
   ]
  },
  {
   "cell_type": "code",
   "execution_count": null,
   "metadata": {},
   "outputs": [],
   "source": [
    "resource='Patient'\n",
    "url = f'{FHIR_SERVER}/{resource}?gender=male'\n",
    "\n",
    "resp = requests.get(url, headers={\"Content-Type\": \"application/fhir+json\"} )\n",
    "resp.json()"
   ]
  },
  {
   "cell_type": "markdown",
   "metadata": {},
   "source": [
    "## Check Data Integrity\n",
    "- check all patients have heart rate -> observation_chartevents\n",
    "  - BUT this is way harder to do in a standard fhir server, no reverseResolve"
   ]
  },
  {
   "cell_type": "code",
   "execution_count": null,
   "metadata": {},
   "outputs": [],
   "source": [
    "#"
   ]
  },
  {
   "cell_type": "code",
   "execution_count": null,
   "metadata": {},
   "outputs": [],
   "source": []
  }
 ],
 "metadata": {
  "interpreter": {
   "hash": "cc120b1e18bb4a5f2e2642a03748ea27e23f9ca213fbd8a1e99c84606e813ff8"
  },
  "kernelspec": {
   "display_name": "Python 3.9.12 ('mimic-fhir')",
   "language": "python",
   "name": "python3"
  },
  "language_info": {
   "codemirror_mode": {
    "name": "ipython",
    "version": 3
   },
   "file_extension": ".py",
   "mimetype": "text/x-python",
   "name": "python",
   "nbconvert_exporter": "python",
   "pygments_lexer": "ipython3",
   "version": "3.9.12"
  },
  "orig_nbformat": 4
 },
 "nbformat": 4,
 "nbformat_minor": 2
}
